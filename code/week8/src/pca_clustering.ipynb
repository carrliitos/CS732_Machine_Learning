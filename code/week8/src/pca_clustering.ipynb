{
 "cells": [
  {
   "cell_type": "markdown",
   "id": "7b7ebc04-1abc-44fe-98b8-62fc07a99411",
   "metadata": {},
   "source": [
    "# Week 8 Homework\n",
    "> Benzon Carlitos Salazar\n",
    "\n",
    "For this problem you will use an image segmentation data set for clustering. You will experiment with using PCA as an approach to reduce dimensionality and noise in the data. You will compare the results of clustering the data with and without PCA using the provided image class assignments as the ground truth. The data set is divided into three files:\n",
    "1. The file \"segmentation_data.txt\" contains data about images with each line corresponding to one image.\n",
    "2. Each image is represented by 19 features (these are the columns in the data and correspond to the feature names in the file \"segmentation_names.txt\".\n",
    "3. The file \"segmentation_classes.txt\" contains the class labels (the type of image) and a numeric class label for each of the corresponding images in the data file.\n",
    "\n",
    "After clustering the image data, you will use the class labels to measure completeness and homogeneity of the generated clusters. The data set used in this problem is based on the Image Segmentation data set at the UCI Machine Learning Repository."
   ]
  },
  {
   "cell_type": "code",
   "execution_count": 1,
   "id": "cbb29530-6a77-43c0-ab99-0f5a55e7d33b",
   "metadata": {},
   "outputs": [],
   "source": [
    "import numpy as np\n",
    "import pandas as pd\n",
    "from sklearn.preprocessing import MinMaxScaler, LabelEncoder\n",
    "from sklearn.cluster import KMeans\n",
    "from sklearn.decomposition import PCA\n",
    "from sklearn.metrics import completeness_score, homogeneity_score, confusion_matrix\n",
    "import matplotlib.pyplot as plt"
   ]
  },
  {
   "cell_type": "markdown",
   "id": "e3b4b66a-87f9-4c2c-ac79-da1c4490815c",
   "metadata": {},
   "source": [
    "## Step 1.\n",
    "\n",
    "Load in the image data matrix (with rows as images and columns as features). Also load in the numeric class labels from the segmentation class file. Using your favorite method (e.g., sklearn's min-max scaler), perform min-max normalization on the data matrix so that each feature is scaled to [0,1] range."
   ]
  },
  {
   "cell_type": "code",
   "execution_count": 2,
   "id": "ea130be5-6fdb-4a25-93c5-383d2de84f19",
   "metadata": {},
   "outputs": [],
   "source": [
    "data = pd.read_csv(\"./data/segmentation_data.txt\", header=None, delimiter=',')\n",
    "classes = pd.read_csv(\"./data/segmentation_classes.txt\", header=None, delimiter=',', names=['Class'])\n",
    "\n",
    "scaler = MinMaxScaler()\n",
    "normalized_data = scaler.fit_transform(data)"
   ]
  },
  {
   "cell_type": "code",
   "execution_count": 3,
   "id": "7ffc7a7e-7b80-449d-ae2f-af8b52fdb03d",
   "metadata": {},
   "outputs": [],
   "source": [
    "label_encoder = LabelEncoder()\n",
    "classes['Class'] = label_encoder.fit_transform(classes['Class'])\n",
    "\n",
    "scaler = MinMaxScaler()\n",
    "normalized_data = scaler.fit_transform(data)"
   ]
  },
  {
   "cell_type": "markdown",
   "id": "394b3d65-d09c-40c0-9b12-5766d71627d5",
   "metadata": {},
   "source": [
    "## Step 2.\n",
    "\n",
    "Using the Kmeans implementation in scikit-learn, perform clustering on the image data (use K = 7 in your clustering so that later we can compare the clusters to the 7 pre-assigned image classes). Print the cluster centroids (use some formatting so that they are visually understandable). Add these to your submission document. Compare your 7 clusters to the 7 pre-assigned classes by computing the Completeness and Homogeneity values of the generated clusters as well as the misclassification rate using confusion matrices.Add the comparison values to your submission document."
   ]
  },
  {
   "cell_type": "code",
   "execution_count": 4,
   "id": "d0bcd32a-22d1-4b50-984a-832e903c0606",
   "metadata": {},
   "outputs": [],
   "source": [
    "k = 7\n",
    "n_initial_value = 10\n",
    "\n",
    "kmeans = KMeans(n_clusters=k, n_init=n_initial_value, random_state=42)\n",
    "cluster_labels = kmeans.fit_predict(normalized_data)"
   ]
  },
  {
   "cell_type": "markdown",
   "id": "48f7ac2f-71b1-4b11-8353-61c8ecf6a0e0",
   "metadata": {},
   "source": [
    "#### Print cluster centroids"
   ]
  },
  {
   "cell_type": "code",
   "execution_count": 5,
   "id": "999b8d81-587d-47d8-ac85-4e79aec08a1d",
   "metadata": {},
   "outputs": [
    {
     "name": "stdout",
     "output_type": "stream",
     "text": [
      "Cluster Centroids:\n",
      "           0           1    2         3         4         5          6   \\\n",
      "0   77.533898  138.406780  9.0  0.017420  0.010358  2.946092   9.342202   \n",
      "1  195.277419  113.251613  9.0  0.004659  0.005018  1.157885   2.948459   \n",
      "2  136.380000   47.040000  9.0  0.009259  0.000370  0.883333   0.538392   \n",
      "3  131.040404  205.144781  9.0  0.025814  0.001122  1.591844   1.395540   \n",
      "4   64.674627  105.259701  9.0  0.025207  0.004312  2.269320   4.115067   \n",
      "5  190.313253  138.689759  9.0  0.013052  0.008367  3.317604  18.765677   \n",
      "6   65.027586  121.365517  9.0  0.008812  0.003065  1.093295   2.358279   \n",
      "\n",
      "         7          8           9           10          11          12  \\\n",
      "0  3.755414  15.309615   57.465003   50.778719   71.289078   50.327213   \n",
      "1  1.032079   2.894470    5.794982    4.731183    8.654122    3.999642   \n",
      "2  1.197037   0.813307  118.090124  106.907778  134.920373  112.442223   \n",
      "3  2.072203   1.942208   15.605312   12.532361   13.944258   20.339319   \n",
      "4  2.738806   6.982723   21.147706   18.850746   27.822554   16.769818   \n",
      "5  4.799197  24.436824   42.828648   38.051205   52.823293   37.611446   \n",
      "6  1.250383   2.811893    3.712005    2.417625    6.376628    2.341762   \n",
      "\n",
      "          13         14         15          16        17        18  \n",
      "0 -20.058851  41.472222 -21.413371   71.289078  0.302263 -2.068003  \n",
      "1  -3.191398   8.577419  -5.386021    8.803943  0.539091 -1.582438  \n",
      "2 -33.547037  50.490741 -16.943704  134.920373  0.211804 -2.299201  \n",
      "3  -9.218855  -4.983165  14.202020   20.355032  0.414491  2.271143  \n",
      "4  -6.890879  20.024544 -13.133665   27.861360  0.413414 -1.836448  \n",
      "5 -14.332329  29.983936 -15.651606   52.835676  0.303047 -2.065143  \n",
      "6  -3.883142   7.993870  -4.110728    6.520690  0.803593 -1.972881  \n"
     ]
    }
   ],
   "source": [
    "print(\"Cluster Centroids:\")\n",
    "print(pd.DataFrame(scaler.inverse_transform(kmeans.cluster_centers_), columns=data.columns))"
   ]
  },
  {
   "cell_type": "markdown",
   "id": "e72e9364-29fd-4b71-b26d-77a8578120c0",
   "metadata": {},
   "source": [
    "#### Evaluate clustering performance"
   ]
  },
  {
   "cell_type": "code",
   "execution_count": 6,
   "id": "65fd3053-4d4d-4004-98cb-7258e85371ea",
   "metadata": {},
   "outputs": [],
   "source": [
    "completeness = completeness_score(classes['Class'], cluster_labels)\n",
    "homogeneity = homogeneity_score(classes['Class'], cluster_labels)\n",
    "conf_matrix = confusion_matrix(classes['Class'], cluster_labels)\n",
    "\n",
    "misclassification_rate = np.sum(conf_matrix) - np.sum(np.diag(conf_matrix))\n",
    "misclassification_rate /= np.sum(conf_matrix)"
   ]
  },
  {
   "cell_type": "code",
   "execution_count": 7,
   "id": "30742f37-0eac-480a-8865-f9f869b37587",
   "metadata": {},
   "outputs": [
    {
     "name": "stdout",
     "output_type": "stream",
     "text": [
      "\n",
      "Completeness: 0.6117374684331666\n",
      "Homogeneity: 0.6100499914689615\n",
      "Misclassification Rate: 0.8185714285714286\n",
      "Confusion Matrix:\n",
      "[[  0  69   0   0 170   0  61]\n",
      " [113   7   0   0  42 137   1]\n",
      " [  8  47   0   0  54  12 179]\n",
      " [  0   0   0 297   2   1   0]\n",
      " [115   0   0   0  27 158   0]\n",
      " [  0   0 300   0   0   0   0]\n",
      " [  0 186   0   0  40  24  50]]\n"
     ]
    }
   ],
   "source": [
    "print(\"\\nCompleteness:\", completeness)\n",
    "print(\"Homogeneity:\", homogeneity)\n",
    "print(\"Misclassification Rate:\", misclassification_rate)\n",
    "print(\"Confusion Matrix:\")\n",
    "print(conf_matrix)"
   ]
  },
  {
   "cell_type": "markdown",
   "id": "1507bbec-3145-40bf-86f4-cabb2f928fe0",
   "metadata": {},
   "source": [
    "## Step 3.\n",
    "\n",
    "Perform PCA on the normalized image data matrix. You can use the code done in class. Analyze the principal components to determine the number, r, of PCs needed to capture at least 95% of variance in the data. Provide a plot of PC variances (for different values of r). Then use these r components as features to transform the data into a reduced dimension space."
   ]
  },
  {
   "cell_type": "code",
   "execution_count": 8,
   "id": "b1f96cc9-75df-4219-be17-c9d633a93b96",
   "metadata": {},
   "outputs": [],
   "source": [
    "pca = PCA()\n",
    "pca.fit(normalized_data)\n",
    "explained_variance = pca.explained_variance_ratio_"
   ]
  },
  {
   "cell_type": "code",
   "execution_count": 9,
   "id": "59e09321-399d-404e-8832-d0898489a06f",
   "metadata": {},
   "outputs": [
    {
     "data": {
      "image/png": "[encoded data removed]",
      "text/plain": [
       "<Figure size 640x480 with 1 Axes>"
      ]
     },
     "metadata": {},
     "output_type": "display_data"
    }
   ],
   "source": [
    "plt.plot(np.cumsum(explained_variance))\n",
    "plt.xlabel('Number of Principal Components')\n",
    "plt.ylabel('Cumulative Explained Variance')\n",
    "plt.title('Cumulative Explained Variance vs. Number of PCs')\n",
    "\n",
    "plt.savefig(\"./pca_clustering.png\")\n",
    "plt.show()"
   ]
  },
  {
   "cell_type": "markdown",
   "id": "2d9d528d-6d2c-49c8-b0bd-bd9dbac1b317",
   "metadata": {},
   "source": [
    "#### Determine the number of components to capture at least 95% of variance"
   ]
  },
  {
   "cell_type": "code",
   "execution_count": 10,
   "id": "6f67c436-a36a-419a-abd6-34b8aa462a43",
   "metadata": {},
   "outputs": [
    {
     "name": "stdout",
     "output_type": "stream",
     "text": [
      "Number of Principal Components to capture at least 95% variance: 7\n"
     ]
    }
   ],
   "source": [
    "cumulative_variance = np.cumsum(explained_variance)\n",
    "num_components = np.argmax(cumulative_variance >= 0.95) + 1\n",
    "\n",
    "print(f\"Number of Principal Components to capture at least 95% variance: {num_components}\")"
   ]
  },
  {
   "cell_type": "markdown",
   "id": "b7137d24-f58f-4b39-ae4a-01a53134dfec",
   "metadata": {},
   "source": [
    "#### Perform PCA with the determined number of components"
   ]
  },
  {
   "cell_type": "code",
   "execution_count": 11,
   "id": "6f64d084-71e1-46f4-bdbb-6b5863939d10",
   "metadata": {},
   "outputs": [],
   "source": [
    "pca = PCA(n_components=num_components)\n",
    "transformed_data = pca.fit_transform(normalized_data)"
   ]
  },
  {
   "cell_type": "markdown",
   "id": "54e529bc-c983-41b7-97db-286280be718d",
   "metadata": {},
   "source": [
    "## Step 4.\n",
    "\n",
    "Perform Kmeans again, but this time on the lower dimensional transformed data. Then compare completeness and Homogeneity values of the new clusters as well as the misclassification rate using confusion matrices. Compare these results with those obtained on the full data in part b. Put these values in your submission document."
   ]
  },
  {
   "cell_type": "code",
   "execution_count": 12,
   "id": "dd95311c-75dc-40b4-bba0-25d81ba4e460",
   "metadata": {},
   "outputs": [],
   "source": [
    "kmeans_pca = KMeans(n_clusters=k, n_init=n_initial_value, random_state=42)\n",
    "cluster_labels_pca = kmeans_pca.fit_predict(transformed_data)"
   ]
  },
  {
   "cell_type": "markdown",
   "id": "924226bb-2401-4da9-bccb-134e2f7e2728",
   "metadata": {},
   "source": [
    "#### Evaluate clustering performance on PCA data"
   ]
  },
  {
   "cell_type": "code",
   "execution_count": 13,
   "id": "b1c7a054-cf86-4704-bbb0-52e2a984d62e",
   "metadata": {},
   "outputs": [],
   "source": [
    "completeness_pca = completeness_score(classes['Class'], cluster_labels_pca)\n",
    "homogeneity_pca = homogeneity_score(classes['Class'], cluster_labels_pca)\n",
    "conf_matrix_pca = confusion_matrix(classes['Class'], cluster_labels_pca)\n",
    "\n",
    "misclassification_rate_pca = np.sum(conf_matrix_pca) - np.sum(np.diag(conf_matrix_pca))\n",
    "misclassification_rate_pca /= np.sum(conf_matrix_pca)"
   ]
  },
  {
   "cell_type": "code",
   "execution_count": 14,
   "id": "be67741e-3859-4abd-9dd5-9e7094b50a70",
   "metadata": {},
   "outputs": [
    {
     "name": "stdout",
     "output_type": "stream",
     "text": [
      "\n",
      "Completeness (PCA): 0.6110721173142057\n",
      "Homogeneity (PCA): 0.6094646259197862\n",
      "Misclassification Rate (PCA): 0.8523809523809524\n",
      "Confusion Matrix (PCA):\n",
      "[[170   0   0   0  60  70   0]\n",
      " [ 42 115   0   0   1   7 135]\n",
      " [ 55   8   0   0 178  48  11]\n",
      " [  2   0 297   0   0   0   1]\n",
      " [ 28 116   0   0   0   0 156]\n",
      " [  0   0   0 300   0   0   0]\n",
      " [ 41   0   0   0  48 186  25]]\n"
     ]
    }
   ],
   "source": [
    "print(\"\\nCompleteness (PCA):\", completeness_pca)\n",
    "print(\"Homogeneity (PCA):\", homogeneity_pca)\n",
    "print(\"Misclassification Rate (PCA):\", misclassification_rate_pca)\n",
    "print(\"Confusion Matrix (PCA):\")\n",
    "print(conf_matrix_pca)"
   ]
  },
  {
   "cell_type": "markdown",
   "id": "7130bed5-5c6a-4ac6-ab2e-bb6dfcf79e0f",
   "metadata": {},
   "source": [
    "# Key Takeaways\n",
    "\n",
    "### Misclassification Rate Without PCA (0.8186): \n",
    "\n",
    "- This represents the proportion of misclassified samples in the clustering results when using the original high-dimensional data. A lower misclassification rate is generally desirable, indicating better separation of clusters.\n",
    "\n",
    "### Misclassification Rate With PCA (0.8524):\n",
    "\n",
    "- This represents the proportion of misclassified samples after applying PCA for dimensionality reduction. A slightly higher misclassification rate might indicate that the reduced-dimensional representation didn't capture all the information needed for optimal clustering.\n",
    "\n",
    "Essentially, it boils down to two things:\n",
    "1. If the misclassification rate with PCA is significantly lower, it would suggest that PCA helped improve the clustering performance by reducing noise and capturing essential information.\n",
    "2. If the misclassification rate with PCA is comparable or slightly higher, it might indicate that the reduction in dimensionality didn't significantly benefit the clustering task, and the original high-dimensional representation is already suitable for clustering."
   ]
  }
 ],
 "metadata": {
  "kernelspec": {
   "display_name": "Python 3 (ipykernel)",
   "language": "python",
   "name": "python3"
  },
  "language_info": {
   "codemirror_mode": {
    "name": "ipython",
    "version": 3
   },
   "file_extension": ".py",
   "mimetype": "text/x-python",
   "name": "python",
   "nbconvert_exporter": "python",
   "pygments_lexer": "ipython3",
   "version": "3.10.12"
  }
 },
 "nbformat": 4,
 "nbformat_minor": 5
}
