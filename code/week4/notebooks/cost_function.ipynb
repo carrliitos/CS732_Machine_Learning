{
 "cells": [
  {
   "cell_type": "code",
   "execution_count": 12,
   "id": "5ce38d1c-d77e-4b5b-920a-b30a6ac6d608",
   "metadata": {},
   "outputs": [],
   "source": [
    "import pandas as pd\n",
    "import numpy as np\n",
    "import matplotlib.pyplot as plt\n",
    "plt.style.use(\"../deeplearning.mplstyle\")\n",
    "\n",
    "from utils import plot_data, dlc"
   ]
  },
  {
   "cell_type": "markdown",
   "id": "46aa401e-e1b9-49eb-b87b-8af70c544f75",
   "metadata": {},
   "source": [
    "## Dataset"
   ]
  },
  {
   "cell_type": "code",
   "execution_count": 62,
   "id": "1d0a63af-d699-4304-bfae-eb3a4b517325",
   "metadata": {},
   "outputs": [],
   "source": [
    "heart_csv = \"../data-raw/heart.csv\""
   ]
  },
  {
   "cell_type": "code",
   "execution_count": 103,
   "id": "959a0411-3dba-4194-84ba-9b32abc1e242",
   "metadata": {},
   "outputs": [],
   "source": [
    "with open(heart_csv, \"r\") as input_data:\n",
    "    df = pd.read_csv(input_data)"
   ]
  },
  {
   "cell_type": "code",
   "execution_count": 105,
   "id": "2490f124-4115-4e43-8222-fcfefba4dd40",
   "metadata": {},
   "outputs": [
    {
     "data": {
      "text/html": [
       "<div>\n",
       "<style scoped>\n",
       "    .dataframe tbody tr th:only-of-type {\n",
       "        vertical-align: middle;\n",
       "    }\n",
       "\n",
       "    .dataframe tbody tr th {\n",
       "        vertical-align: top;\n",
       "    }\n",
       "\n",
       "    .dataframe thead th {\n",
       "        text-align: right;\n",
       "    }\n",
       "</style>\n",
       "<table border=\"1\" class=\"dataframe\">\n",
       "  <thead>\n",
       "    <tr style=\"text-align: right;\">\n",
       "      <th></th>\n",
       "      <th>oldpeak</th>\n",
       "      <th>thal</th>\n",
       "      <th>target</th>\n",
       "    </tr>\n",
       "  </thead>\n",
       "  <tbody>\n",
       "    <tr>\n",
       "      <th>288</th>\n",
       "      <td>3.0</td>\n",
       "      <td>3</td>\n",
       "      <td>0</td>\n",
       "    </tr>\n",
       "    <tr>\n",
       "      <th>159</th>\n",
       "      <td>0.0</td>\n",
       "      <td>3</td>\n",
       "      <td>1</td>\n",
       "    </tr>\n",
       "    <tr>\n",
       "      <th>26</th>\n",
       "      <td>1.6</td>\n",
       "      <td>2</td>\n",
       "      <td>1</td>\n",
       "    </tr>\n",
       "    <tr>\n",
       "      <th>206</th>\n",
       "      <td>1.2</td>\n",
       "      <td>3</td>\n",
       "      <td>0</td>\n",
       "    </tr>\n",
       "    <tr>\n",
       "      <th>302</th>\n",
       "      <td>0.0</td>\n",
       "      <td>2</td>\n",
       "      <td>0</td>\n",
       "    </tr>\n",
       "  </tbody>\n",
       "</table>\n",
       "</div>"
      ],
      "text/plain": [
       "     oldpeak  thal  target\n",
       "288      3.0     3       0\n",
       "159      0.0     3       1\n",
       "26       1.6     2       1\n",
       "206      1.2     3       0\n",
       "302      0.0     2       0"
      ]
     },
     "execution_count": 105,
     "metadata": {},
     "output_type": "execute_result"
    }
   ],
   "source": [
    "df = df[[\"oldpeak\", \"thal\", \"target\"]]\n",
    "df = df.sample(50)\n",
    "df.head()"
   ]
  },
  {
   "cell_type": "code",
   "execution_count": 114,
   "id": "d512a4ea-5dd8-42b7-97c2-867b853f5e3a",
   "metadata": {},
   "outputs": [],
   "source": [
    "# X_train = df.drop([\"target\"], axis=1).to_numpy() # (m,n)\n",
    "# y_train = df[\"target\"].to_numpy() # (m,)\n",
    "\n",
    "# X_train = np.array([[0.5, 1.5], [1,1], [1.5, 0.5], [3, 0.5], [2, 2], [1, 2.5]])  #(m,n)\n",
    "# y_train = np.array([0, 0, 0, 1, 1, 1])                                           #(m,)\n",
    "\n",
    "# Tumor size example to make sense of it all\n",
    "X_train = np.array([\n",
    "    [0.5, 1],\n",
    "    [0.75, 1.2],\n",
    "    [0.43, 0.9],\n",
    "    [0.80, 1.3],\n",
    "    [0.62, 1.1],\n",
    "    [1.2, 2.3],\n",
    "    [1.2, 2.5],\n",
    "    [1.5, 2.66],\n",
    "    [1.35, 2.52],\n",
    "    [1.44, 2.44]\n",
    "])\n",
    "y_train = np.array([0, 0, 0, 0, 0, 1, 1, 1, 1, 1])"
   ]
  },
  {
   "cell_type": "code",
   "execution_count": 115,
   "id": "18b6b227-37d3-42a3-975b-2b4e4afcde11",
   "metadata": {},
   "outputs": [
    {
     "data": {
      "text/plain": [
       "array([[0.5 , 1.  ],\n",
       "       [0.75, 1.2 ],\n",
       "       [0.43, 0.9 ],\n",
       "       [0.8 , 1.3 ],\n",
       "       [0.62, 1.1 ],\n",
       "       [1.2 , 2.3 ],\n",
       "       [1.2 , 2.5 ],\n",
       "       [1.5 , 2.66],\n",
       "       [1.35, 2.52],\n",
       "       [1.44, 2.44]])"
      ]
     },
     "execution_count": 115,
     "metadata": {},
     "output_type": "execute_result"
    }
   ],
   "source": [
    "X_train"
   ]
  },
  {
   "cell_type": "code",
   "execution_count": 116,
   "id": "1b5b9c71-5726-49d1-901e-9e37ec189894",
   "metadata": {},
   "outputs": [
    {
     "data": {
      "text/plain": [
       "array([0, 0, 0, 0, 0, 1, 1, 1, 1, 1])"
      ]
     },
     "execution_count": 116,
     "metadata": {},
     "output_type": "execute_result"
    }
   ],
   "source": [
    "y_train"
   ]
  },
  {
   "cell_type": "markdown",
   "id": "ac59c10a-1a95-46a7-a039-bb3129253318",
   "metadata": {},
   "source": [
    "We use a helper function to plot our data. The data points with label $y=1$ are shown as red crosses, while the data points with label $y=0$ are shown as blue circles."
   ]
  },
  {
   "cell_type": "code",
   "execution_count": 117,
   "id": "1f3555f3-e2d5-4dce-9e6d-cf2f4e8fca7a",
   "metadata": {},
   "outputs": [
    {
     "data": {
      "image/png": "[encoded data removed]",
      "text/plain": [
       "<Figure size 400x400 with 1 Axes>"
      ]
     },
     "metadata": {},
     "output_type": "display_data"
    }
   ],
   "source": [
    "fix, ax = plt.subplots(1, 1, figsize=(4, 4))\n",
    "plot_data(X_train, y_train, ax)\n",
    "\n",
    "# Set both axes\n",
    "# ax.axis([20, 85, -3, 3])\n",
    "ax.axis([0, 4, 0, 4])\n",
    "ax.set_ylabel('$x_1$', fontsize=12)\n",
    "ax.set_xlabel('$x_0$', fontsize=12)\n",
    "plt.show()"
   ]
  },
  {
   "cell_type": "markdown",
   "id": "c402b520-a38d-4b5d-8759-9d86ee7410a1",
   "metadata": {},
   "source": [
    "## Cost Function\n",
    "\n",
    "Recall that loss is defined to to apply to one example. Here you combine the losses to form the **cost**, which includes all the examples.\n",
    "\n",
    "Recall that for logistic regression, the cost function is the form\n",
    "\n",
    "$$\n",
    "J(\\vec{w},b) = \\frac{1}{m}\\sum\\limits_{i=1}^{m}[L(f_{\\vec{w},b}(\\vec{\\textbf{x}}^{i}, y^{i}))] \\tag{1}\n",
    "$$\n",
    "\n",
    "where\n",
    "\n",
    "- $L(f_{\\vec{w},b}(\\vec{\\textbf{x}}^{i}, y^{i}))$ is the cost for a single data point, which is\n",
    "\n",
    "$$\n",
    "L(f_{\\vec{w},b}(\\vec{\\textbf{x}}^{i}, y^{i})) = -y^{i}\\log(f_{\\vec{w},b}(\\vec{\\textbf{x}}^{i})) - (1-y^{i})\\log(1-f_{\\vec{w},b}(\\vec{\\textbf{x}}^{i})) \\tag{2}\n",
    "$$\n",
    "\n",
    "- where $m$ is the number of training examples in the data set and:\n",
    "\n",
    "$$\n",
    "\\begin{align*}\n",
    "f_{\\vec{w},b}(\\vec{\\textbf{x}}^{i}) = g(z^{i}) \\tag{3} \\newline\n",
    "z^{i} = \\vec{w}*\\vec{\\textbf{x}} + b \\tag{4} \\newline\n",
    "g(z^{i}) = \\frac{1}{1+e^{-z^{i}}} \\tag{5}\n",
    "\\end{align*}\n",
    "$$\n"
   ]
  },
  {
   "cell_type": "markdown",
   "id": "bbca2139-f40c-4a91-83a2-93369abf56ae",
   "metadata": {},
   "source": [
    "### Cost Function Algorithm\n",
    "\n",
    "- Create a variable outside the loop to store the costs\n",
    "- Loop over all examples in the training set\n",
    "  - Calculate the loss for each training example\n",
    "    - Calculate **(4)** above\n",
    "    - Predict $f_{\\vec{w},b}(x^{(i)})$, where $g$ is the sigmoid function **(5)**\n",
    "    - Calculate the loss for this example, equation **(2)** above\n",
    "      - Add this cost to the total cost variable created outside the loop\n",
    "- Get the sum of cost from all iterations and return the total divided by the number of examples"
   ]
  },
  {
   "cell_type": "code",
   "execution_count": 78,
   "id": "2846d3b6-a04d-4e92-a08e-457e194d2a15",
   "metadata": {},
   "outputs": [],
   "source": [
    "def sigmoid(z):\n",
    "    g = 1.0 / (1.0 + np.exp(-z))\n",
    "    return g\n",
    "\n",
    "def compute_cost_logistic(X, y, w, b):\n",
    "    m = X.shape[0]\n",
    "    cost = 0.0\n",
    "    for i in range(m):\n",
    "        z_i = np.dot(X[i], w) + b\n",
    "        fwb_i = sigmoid(z_i)\n",
    "        cost += -y[i]*np.log(fwb_i) - (1-y[i])*np.log(1-fwb_i)\n",
    "    cost = cost / m\n",
    "\n",
    "    return cost"
   ]
  },
  {
   "cell_type": "code",
   "execution_count": 119,
   "id": "d248b79d-c3cd-43f3-a28e-28827c66da91",
   "metadata": {},
   "outputs": [
    {
     "name": "stdout",
     "output_type": "stream",
     "text": [
      "[0.56 0.31 0.31 0.31 0.56 0.96 0.96 0.96 1.55 0.31]\n"
     ]
    }
   ],
   "source": [
    "w_tmp = np.random.randint(2, size=[2, 10])\n",
    "b_tmp = -3\n",
    "print(compute_cost_logistic(X_train, y_train, w_tmp, b_tmp))"
   ]
  },
  {
   "cell_type": "code",
   "execution_count": 121,
   "id": "83c4d6b3-92d2-467d-acb6-50aa3b82acd7",
   "metadata": {},
   "outputs": [
    {
     "data": {
      "image/png": "[encoded data removed]",
      "text/plain": [
       "<Figure size 400x400 with 1 Axes>"
      ]
     },
     "metadata": {},
     "output_type": "display_data"
    }
   ],
   "source": [
    "# Choose values between 0 and 6\n",
    "x0 = np.arange(0, 6)\n",
    "\n",
    "# Plot the two decision boundaries\n",
    "x1 = 3 - x0\n",
    "x1_other = 4 - x0\n",
    "\n",
    "fig,ax = plt.subplots(1, 1, figsize=(4,4))\n",
    "# Plot the decision boundary\n",
    "ax.plot(x0,x1, c=dlc[\"dlblue\"], label=\"$b$=-3\")\n",
    "ax.plot(x0,x1_other, c=dlc[\"dlmagenta\"], label=\"$b$=-4\")\n",
    "ax.axis([0, 4, 0, 4])\n",
    "\n",
    "# Plot the original data\n",
    "plot_data(X_train,y_train,ax)\n",
    "ax.axis([0, 4, 0, 4])\n",
    "ax.set_ylabel('$x_1$', fontsize=12)\n",
    "ax.set_xlabel('$x_0$', fontsize=12)\n",
    "plt.legend(loc=\"upper right\")\n",
    "plt.title(\"Decision Boundary\")\n",
    "plt.show()"
   ]
  },
  {
   "cell_type": "code",
   "execution_count": 122,
   "id": "561389d1-c0bd-4809-bbac-57737b83868a",
   "metadata": {},
   "outputs": [
    {
     "name": "stdout",
     "output_type": "stream",
     "text": [
      "Cost for b = -3 :  [0.31 0.96 0.56 0.31 0.56 0.31 1.55 0.96 1.55 1.55]\n",
      "Cost for b = -4 :  [0.45 0.45 0.45 2.02 2.02 0.88 0.45 1.38 0.88 2.02]\n"
     ]
    }
   ],
   "source": [
    "w_array1 = np.random.randint(2, size=[2, 10])\n",
    "b_1 = -3\n",
    "w_array2 = np.random.randint(2, size=[2, 10])\n",
    "b_2 = -4\n",
    "\n",
    "print(\"Cost for b = -3 : \", compute_cost_logistic(X_train, y_train, w_array1, b_1))\n",
    "print(\"Cost for b = -4 : \", compute_cost_logistic(X_train, y_train, w_array2, b_2))"
   ]
  },
  {
   "cell_type": "code",
   "execution_count": null,
   "id": "336d5fee-f685-48f5-a2c1-0326ebf87904",
   "metadata": {},
   "outputs": [],
   "source": []
  }
 ],
 "metadata": {
  "kernelspec": {
   "display_name": "Python 3 (ipykernel)",
   "language": "python",
   "name": "python3"
  },
  "language_info": {
   "codemirror_mode": {
    "name": "ipython",
    "version": 3
   },
   "file_extension": ".py",
   "mimetype": "text/x-python",
   "name": "python",
   "nbconvert_exporter": "python",
   "pygments_lexer": "ipython3",
   "version": "3.10.12"
  }
 },
 "nbformat": 4,
 "nbformat_minor": 5
}
