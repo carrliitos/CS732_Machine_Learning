{
 "cells": [
  {
   "cell_type": "markdown",
   "id": "abdccd1e-01a8-4f79-a513-6e6f8e3f3aca",
   "metadata": {},
   "source": [
    "# Week 4 Assignment\n",
    "> Benzon Carlitos Salazar\n",
    "\n",
    "1. The dataset provided, `hw2_data1.txt`, provides two examination scores, Exam 1 and Exam 2, for each applicant, and a Status for their corresponding admission decision. 0 is for not admitted and 1 is for admitted. Using this, do the following:\n",
    "   - Visualize the data:\n",
    "     - X-axis for Exam 1 score\n",
    "     - Y-axis for Exam 2 score\n",
    "     - plus for admitted and circle for not admitted\n",
    "   - Implement cost function using Gradient Descent and plot the cost with the number of iterations.\n",
    "   - Report the optimal final parameters $\\theta_{2}$ and $\\theta_{1}$. Plot the decision boundary with the training data.\n",
    "   - If a student has an Exam 1 score of 100 and an Exam 2 score of 50, what is the admission probability of this student?"
   ]
  },
  {
   "cell_type": "code",
   "execution_count": 1,
   "id": "ecea4ee4-ce9e-4fb0-a7ba-371088dfaf90",
   "metadata": {},
   "outputs": [],
   "source": [
    "import copy, math\n",
    "import pandas as pd\n",
    "import numpy as np\n",
    "import matplotlib.pyplot as plt\n",
    "plt.style.use(\"../deeplearning.mplstyle\")\n",
    "\n",
    "from utils import plot_data, dlc, plt_prob"
   ]
  },
  {
   "cell_type": "code",
   "execution_count": 2,
   "id": "fe284183-9dfa-4c99-a4f3-6588e8c9bea5",
   "metadata": {},
   "outputs": [],
   "source": [
    "data = \"../data-raw/hw2_data1.txt\"\n",
    "column_names = [\"Exam1\", \"Exam2\", \"Status\"]"
   ]
  },
  {
   "cell_type": "code",
   "execution_count": 3,
   "id": "9b56ccc2-1931-4f4d-a869-4528d0b0c9b4",
   "metadata": {},
   "outputs": [],
   "source": [
    "with open(data, \"r\") as input_data:\n",
    "    df = pd.read_csv(input_data, header=None, names=column_names)"
   ]
  },
  {
   "cell_type": "code",
   "execution_count": 4,
   "id": "46fb9a56-c024-4d52-b44e-9595ba628247",
   "metadata": {},
   "outputs": [
    {
     "data": {
      "text/html": [
       "<div>\n",
       "<style scoped>\n",
       "    .dataframe tbody tr th:only-of-type {\n",
       "        vertical-align: middle;\n",
       "    }\n",
       "\n",
       "    .dataframe tbody tr th {\n",
       "        vertical-align: top;\n",
       "    }\n",
       "\n",
       "    .dataframe thead th {\n",
       "        text-align: right;\n",
       "    }\n",
       "</style>\n",
       "<table border=\"1\" class=\"dataframe\">\n",
       "  <thead>\n",
       "    <tr style=\"text-align: right;\">\n",
       "      <th></th>\n",
       "      <th>Exam1</th>\n",
       "      <th>Exam2</th>\n",
       "      <th>Status</th>\n",
       "    </tr>\n",
       "  </thead>\n",
       "  <tbody>\n",
       "    <tr>\n",
       "      <th>0</th>\n",
       "      <td>35.623660</td>\n",
       "      <td>77.024693</td>\n",
       "      <td>0</td>\n",
       "    </tr>\n",
       "    <tr>\n",
       "      <th>1</th>\n",
       "      <td>30.286711</td>\n",
       "      <td>43.894998</td>\n",
       "      <td>0</td>\n",
       "    </tr>\n",
       "    <tr>\n",
       "      <th>2</th>\n",
       "      <td>35.847409</td>\n",
       "      <td>72.902198</td>\n",
       "      <td>0</td>\n",
       "    </tr>\n",
       "    <tr>\n",
       "      <th>3</th>\n",
       "      <td>60.182599</td>\n",
       "      <td>86.308552</td>\n",
       "      <td>1</td>\n",
       "    </tr>\n",
       "    <tr>\n",
       "      <th>4</th>\n",
       "      <td>79.032736</td>\n",
       "      <td>75.344376</td>\n",
       "      <td>1</td>\n",
       "    </tr>\n",
       "  </tbody>\n",
       "</table>\n",
       "</div>"
      ],
      "text/plain": [
       "       Exam1      Exam2  Status\n",
       "0  35.623660  77.024693       0\n",
       "1  30.286711  43.894998       0\n",
       "2  35.847409  72.902198       0\n",
       "3  60.182599  86.308552       1\n",
       "4  79.032736  75.344376       1"
      ]
     },
     "execution_count": 4,
     "metadata": {},
     "output_type": "execute_result"
    }
   ],
   "source": [
    "df.head()"
   ]
  },
  {
   "cell_type": "code",
   "execution_count": 5,
   "id": "493ba217-a593-46a9-9944-73a4c4418d45",
   "metadata": {},
   "outputs": [
    {
     "data": {
      "text/html": [
       "<div>\n",
       "<style scoped>\n",
       "    .dataframe tbody tr th:only-of-type {\n",
       "        vertical-align: middle;\n",
       "    }\n",
       "\n",
       "    .dataframe tbody tr th {\n",
       "        vertical-align: top;\n",
       "    }\n",
       "\n",
       "    .dataframe thead th {\n",
       "        text-align: right;\n",
       "    }\n",
       "</style>\n",
       "<table border=\"1\" class=\"dataframe\">\n",
       "  <thead>\n",
       "    <tr style=\"text-align: right;\">\n",
       "      <th></th>\n",
       "      <th>Exam1</th>\n",
       "      <th>Exam2</th>\n",
       "      <th>Status</th>\n",
       "    </tr>\n",
       "  </thead>\n",
       "  <tbody>\n",
       "    <tr>\n",
       "      <th>95</th>\n",
       "      <td>83.489163</td>\n",
       "      <td>48.380286</td>\n",
       "      <td>1</td>\n",
       "    </tr>\n",
       "    <tr>\n",
       "      <th>96</th>\n",
       "      <td>41.261701</td>\n",
       "      <td>88.103851</td>\n",
       "      <td>1</td>\n",
       "    </tr>\n",
       "    <tr>\n",
       "      <th>97</th>\n",
       "      <td>99.315009</td>\n",
       "      <td>68.775409</td>\n",
       "      <td>1</td>\n",
       "    </tr>\n",
       "    <tr>\n",
       "      <th>98</th>\n",
       "      <td>55.340018</td>\n",
       "      <td>64.931938</td>\n",
       "      <td>1</td>\n",
       "    </tr>\n",
       "    <tr>\n",
       "      <th>99</th>\n",
       "      <td>74.775893</td>\n",
       "      <td>89.529813</td>\n",
       "      <td>1</td>\n",
       "    </tr>\n",
       "  </tbody>\n",
       "</table>\n",
       "</div>"
      ],
      "text/plain": [
       "        Exam1      Exam2  Status\n",
       "95  83.489163  48.380286       1\n",
       "96  41.261701  88.103851       1\n",
       "97  99.315009  68.775409       1\n",
       "98  55.340018  64.931938       1\n",
       "99  74.775893  89.529813       1"
      ]
     },
     "execution_count": 5,
     "metadata": {},
     "output_type": "execute_result"
    }
   ],
   "source": [
    "df.tail()"
   ]
  },
  {
   "cell_type": "markdown",
   "id": "36b0f2e8-2c05-4c60-9bea-0acaeef984c7",
   "metadata": {},
   "source": [
    "## Visualize the data"
   ]
  },
  {
   "cell_type": "code",
   "execution_count": 6,
   "id": "97e695b7-cd92-4b20-bd04-dea006ab56c0",
   "metadata": {},
   "outputs": [],
   "source": [
    "X_train = df.drop([\"Status\"], axis=1).to_numpy() # (m,n)\n",
    "y_train = df[\"Status\"].to_numpy() # (m,)"
   ]
  },
  {
   "cell_type": "code",
   "execution_count": 7,
   "id": "c7217a69-863f-465a-9ca4-e81b2014ce27",
   "metadata": {},
   "outputs": [
    {
     "data": {
      "text/plain": [
       "array([[35.62, 77.02],\n",
       "       [30.29, 43.89],\n",
       "       [35.85, 72.9 ],\n",
       "       [60.18, 86.31],\n",
       "       [79.03, 75.34],\n",
       "       [45.08, 56.32],\n",
       "       [61.11, 96.51],\n",
       "       [75.02, 46.55],\n",
       "       [76.1 , 87.42],\n",
       "       [84.43, 43.53]])"
      ]
     },
     "execution_count": 7,
     "metadata": {},
     "output_type": "execute_result"
    }
   ],
   "source": [
    "X_train[0:10]"
   ]
  },
  {
   "cell_type": "code",
   "execution_count": 8,
   "id": "c5ee59d6-26f6-4652-ba7f-bc03cdaada4b",
   "metadata": {},
   "outputs": [
    {
     "data": {
      "text/plain": [
       "99.82785779692128"
      ]
     },
     "execution_count": 8,
     "metadata": {},
     "output_type": "execute_result"
    }
   ],
   "source": [
    "np.amax(X_train)"
   ]
  },
  {
   "cell_type": "code",
   "execution_count": 9,
   "id": "896218fd-45d6-4409-943a-89eec6ba233f",
   "metadata": {},
   "outputs": [
    {
     "data": {
      "text/plain": [
       "30.05882244669796"
      ]
     },
     "execution_count": 9,
     "metadata": {},
     "output_type": "execute_result"
    }
   ],
   "source": [
    "np.amin(X_train)"
   ]
  },
  {
   "cell_type": "code",
   "execution_count": 10,
   "id": "e19696bf-8887-4fd3-80ba-1e8782622758",
   "metadata": {},
   "outputs": [
    {
     "data": {
      "text/plain": [
       "array([0, 0, 0, 1, 1, 0, 1, 1, 1, 1, 0, 0, 1, 1, 0, 1, 1, 0, 1, 1, 0, 1,\n",
       "       0, 0, 1, 1, 1, 0, 0, 0, 1, 1, 0, 1, 0, 0, 0, 1, 0, 0, 1, 0, 1, 0,\n",
       "       0, 0, 1, 1, 1, 1, 1, 1, 1, 0, 0, 0, 1, 0, 1, 1, 1, 0, 0, 0, 0, 0,\n",
       "       1, 0, 1, 1, 0, 1, 1, 1, 1, 1, 1, 1, 0, 0, 1, 1, 1, 1, 1, 1, 0, 1,\n",
       "       1, 0, 1, 1, 0, 1, 1, 1, 1, 1, 1, 1])"
      ]
     },
     "execution_count": 10,
     "metadata": {},
     "output_type": "execute_result"
    }
   ],
   "source": [
    "y_train"
   ]
  },
  {
   "cell_type": "code",
   "execution_count": 11,
   "id": "43a16ffd-eda9-4059-9d9f-c805f629ba11",
   "metadata": {},
   "outputs": [
    {
     "data": {
      "image/png": "[encoded data removed]",
      "text/plain": [
       "<Figure size 400x400 with 1 Axes>"
      ]
     },
     "metadata": {},
     "output_type": "display_data"
    }
   ],
   "source": [
    "fix, ax = plt.subplots(1, 1, figsize=(4, 4))\n",
    "plot_data(X_train, y_train, ax)\n",
    "\n",
    "# Set both axes\n",
    "ax.axis([20, 110, 20, 110])\n",
    "ax.set_ylabel(\"Exam 2\", fontsize=12)\n",
    "ax.set_xlabel(\"Exam 1\", fontsize=12)\n",
    "\n",
    "plt.savefig(\"../imgs/week4_x_y_plots.png\")\n",
    "plt.show()"
   ]
  },
  {
   "cell_type": "markdown",
   "id": "262d34b6-3e07-4fc0-9fb7-1af9513cbe8c",
   "metadata": {},
   "source": [
    "## Implement the Cost Function\n",
    "\n",
    "Implement the Cost Function with Gradient Descent and plot the cost with the number of iterations."
   ]
  },
  {
   "cell_type": "code",
   "execution_count": 12,
   "id": "be60bf3a-7f30-4a23-adc8-6d86e2c6f9bd",
   "metadata": {},
   "outputs": [],
   "source": [
    "def sigmoid(z):\n",
    "    g = 1.0 / (1.0 + np.exp(-z))\n",
    "    return g"
   ]
  },
  {
   "cell_type": "code",
   "execution_count": 13,
   "id": "7c6d79a3-1b3b-44ba-81ea-b6ce168add1e",
   "metadata": {},
   "outputs": [],
   "source": [
    "def compute_gradient_logistic(X, y, w, b): \n",
    "    \"\"\"\n",
    "    Computes the gradient for linear regression \n",
    " \n",
    "    Args:\n",
    "      X (ndarray (m,n): Data, m examples with n features\n",
    "      y (ndarray (m,)): target values\n",
    "      w (ndarray (n,)): model parameters  \n",
    "      b (scalar)      : model parameter\n",
    "    Returns\n",
    "      dj_dw (ndarray (n,)): The gradient of the cost w.r.t. the parameters w. \n",
    "      dj_db (scalar)      : The gradient of the cost w.r.t. the parameter b. \n",
    "    \"\"\"\n",
    "    m,n = X.shape\n",
    "    dj_dw = np.zeros((n,))                           #(n,)\n",
    "    dj_db = 0.\n",
    "\n",
    "    for i in range(m):\n",
    "        f_wb_i = sigmoid(np.dot(X[i],w) + b)          #(n,)(n,)=scalar\n",
    "        err_i  = f_wb_i  - y[i]                       #scalar\n",
    "        for j in range(n):\n",
    "            dj_dw[j] = dj_dw[j] + err_i * X[i,j]      #scalar\n",
    "        dj_db = dj_db + err_i\n",
    "    dj_dw = dj_dw/m                                   #(n,)\n",
    "    dj_db = dj_db/m                                   #scalar\n",
    "        \n",
    "    return dj_db, dj_dw"
   ]
  },
  {
   "cell_type": "code",
   "execution_count": 14,
   "id": "375bf19a-d716-48f9-95df-936ba415f0bd",
   "metadata": {},
   "outputs": [],
   "source": [
    "def compute_cost_logistic(X, y, w, b, lambda_=0, safe=False):\n",
    "    \"\"\"\n",
    "    Computes cost using logistic loss, non-matrix version\n",
    "\n",
    "    Args:\n",
    "      X (ndarray): Shape (m,n)  matrix of examples with n features\n",
    "      y (ndarray): Shape (m,)   target values\n",
    "      w (ndarray): Shape (n,)   parameters for prediction\n",
    "      b (scalar):               parameter  for prediction\n",
    "      lambda_ : (scalar, float) Controls amount of regularization, 0 = no regularization\n",
    "      safe : (boolean)          True-selects under/overflow safe algorithm\n",
    "    Returns:\n",
    "      cost (scalar): cost\n",
    "    \"\"\"\n",
    "\n",
    "    m,n = X.shape\n",
    "    cost = 0.0\n",
    "    for i in range(m):\n",
    "        z_i    = np.dot(X[i],w) + b                                             #(n,)(n,) or (n,) ()\n",
    "        if safe:  #avoids overflows\n",
    "            cost += -(y[i] * z_i ) + log_1pexp(z_i)\n",
    "        else:\n",
    "            f_wb_i = sigmoid(z_i)                                                   #(n,)\n",
    "            cost  += -y[i] * np.log(f_wb_i) - (1 - y[i]) * np.log(1 - f_wb_i)       # scalar\n",
    "    cost = cost/m\n",
    "\n",
    "    reg_cost = 0\n",
    "    if lambda_ != 0:\n",
    "        for j in range(n):\n",
    "            reg_cost += (w[j]**2)                                               # scalar\n",
    "        reg_cost = (lambda_/(2*m))*reg_cost\n",
    "\n",
    "    return cost + reg_cost"
   ]
  },
  {
   "cell_type": "code",
   "execution_count": 15,
   "id": "34cb117e-d350-4ebd-bab0-387da1db8c6d",
   "metadata": {},
   "outputs": [],
   "source": [
    "def gradient_descent(X, y, w_in, b_in, alpha, num_iters): \n",
    "    \"\"\"\n",
    "    Performs batch gradient descent\n",
    "    \n",
    "    Args:\n",
    "      X (ndarray (m,n)   : Data, m examples with n features\n",
    "      y (ndarray (m,))   : target values\n",
    "      w_in (ndarray (n,)): Initial values of model parameters  \n",
    "      b_in (scalar)      : Initial values of model parameter\n",
    "      alpha (float)      : Learning rate\n",
    "      num_iters (scalar) : number of iterations to run gradient descent\n",
    "      \n",
    "    Returns:\n",
    "      w (ndarray (n,))   : Updated values of parameters\n",
    "      b (scalar)         : Updated value of parameter \n",
    "    \"\"\"\n",
    "    # An array to store cost J and w's at each iteration primarily for graphing later\n",
    "    J_history = []\n",
    "    w = copy.deepcopy(w_in)  #avoid modifying global w within function\n",
    "    b = b_in\n",
    "    \n",
    "    for i in range(num_iters):\n",
    "        # Calculate the gradient and update the parameters\n",
    "        dj_db, dj_dw = compute_gradient_logistic(X, y, w, b)   \n",
    "\n",
    "        # Update Parameters using w, b, alpha and gradient\n",
    "        w = w - alpha * dj_dw               \n",
    "        b = b - alpha * dj_db               \n",
    "      \n",
    "        # Save cost J at each iteration\n",
    "        if i<100000:      # prevent resource exhaustion \n",
    "            J_history.append( compute_cost_logistic(X, y, w, b) )\n",
    "\n",
    "        # Print cost every at intervals 10 times or as many iterations if < 10\n",
    "        if i% math.ceil(num_iters / 10) == 0:\n",
    "            print(f\"Iteration {i:4d}: Cost {J_history[-1]}   \")\n",
    "        \n",
    "    return w, b, J_history         #return final w,b and J history for graphing\n"
   ]
  },
  {
   "cell_type": "markdown",
   "id": "adfda0a1-151e-4651-b57f-714068ba6edb",
   "metadata": {},
   "source": [
    "## Final Parameters"
   ]
  },
  {
   "cell_type": "code",
   "execution_count": 16,
   "id": "cfdd44b9-db79-4cc0-bb46-2e12df31818d",
   "metadata": {},
   "outputs": [
    {
     "name": "stdout",
     "output_type": "stream",
     "text": [
      "Iteration    0: Cost 0.7117300470590561   \n",
      "Iteration 10000: Cost 0.6475363679168045   \n",
      "Iteration 20000: Cost 0.599943335089728   \n",
      "Iteration 30000: Cost 0.559875786458269   \n",
      "Iteration 40000: Cost 0.526058704307436   \n",
      "Iteration 50000: Cost 0.49737825793032875   \n",
      "Iteration 60000: Cost 0.472900053310536   \n",
      "Iteration 70000: Cost 0.4518596352108604   \n",
      "Iteration 80000: Cost 0.43364034316720323   \n",
      "Iteration 90000: Cost 0.4177479613099146   \n",
      "\n",
      "updated parameters: w:[0.04 0.03], b:-4.342510163227157\n"
     ]
    }
   ],
   "source": [
    "w_tmp  = np.zeros_like(X_train[1])\n",
    "b_tmp  = 1.0\n",
    "alph = 0.001\n",
    "iters = 100000\n",
    "\n",
    "w_out, b_out, J_hist = gradient_descent(X_train, y_train, w_tmp, b_tmp, alph, iters) \n",
    "print(f\"\\nupdated parameters: w:{w_out}, b:{b_out}\")"
   ]
  },
  {
   "cell_type": "code",
   "execution_count": 17,
   "id": "7e574e30-2431-47bb-b56c-35a74ec69d15",
   "metadata": {},
   "outputs": [
    {
     "data": {
      "image/png": "[encoded data removed]",
      "text/plain": [
       "<Figure size 500x400 with 2 Axes>"
      ]
     },
     "metadata": {},
     "output_type": "display_data"
    }
   ],
   "source": [
    "fig,ax = plt.subplots(1,1,figsize=(5,4))\n",
    "# plot the probability \n",
    "plt_prob(ax, w_out, b_out)\n",
    "\n",
    "# Plot the original data\n",
    "ax.axis([20, 110, 20, 110])\n",
    "ax.set_ylabel(\"Exam 2\", fontsize=12)\n",
    "ax.set_xlabel(\"Exam 1\", fontsize=12)\n",
    "plot_data(X_train,y_train,ax)\n",
    "\n",
    "# Plot the decision boundary\n",
    "x0 = -b_out/w_out[0]\n",
    "x1 = -b_out/w_out[1]\n",
    "ax.plot([0,x0],[x1,0], c=dlc[\"dlblue\"], lw=1)\n",
    "\n",
    "plt.savefig(\"../imgs/week4_decision_boundary.png\")\n",
    "\n",
    "plt.show()"
   ]
  },
  {
   "cell_type": "code",
   "execution_count": 18,
   "id": "b4792e03-f6ca-47c7-a9bf-65f9b522a73c",
   "metadata": {},
   "outputs": [
    {
     "data": {
      "image/png": "[encoded data removed]",
      "text/plain": [
       "<Figure size 1200x400 with 2 Axes>"
      ]
     },
     "metadata": {},
     "output_type": "display_data"
    }
   ],
   "source": [
    "# plot cost versus iteration  \n",
    "fig, (ax1, ax2) = plt.subplots(1, 2, constrained_layout=True, figsize=(12,4))\n",
    "ax1.plot(J_hist[:100])\n",
    "ax2.plot(1000 + np.arange(len(J_hist[1000:])), J_hist[1000:])\n",
    "ax1.set_title(\"Error vs. Start of Iteration\");  ax2.set_title(\"Error vs. End of Iteration\")\n",
    "ax1.set_ylabel('Error')                      ;  ax2.set_ylabel('Error') \n",
    "ax1.set_xlabel('iteration step')             ;  ax2.set_xlabel('iteration step') \n",
    "\n",
    "plt.savefig(\"../imgs/week4_error_vs_iteration.png\")\n",
    "\n",
    "plt.show()"
   ]
  },
  {
   "cell_type": "markdown",
   "id": "6fa46a6d-d946-45e9-ad7d-1b07deb8bd07",
   "metadata": {},
   "source": [
    "## Admission Probability\n",
    "\n",
    "If a student has an Exam 1 score of 100 and an Exam 2 score of 50, what is the admission probability of this student?"
   ]
  },
  {
   "cell_type": "code",
   "execution_count": 26,
   "id": "1dabad4a-0d60-456b-aa61-1d026ae6a24c",
   "metadata": {},
   "outputs": [
    {
     "data": {
      "text/plain": [
       "0.8250900771569071"
      ]
     },
     "execution_count": 26,
     "metadata": {},
     "output_type": "execute_result"
    }
   ],
   "source": [
    "exam1 = 100\n",
    "exam2 = 50\n",
    "\n",
    "sigmoid(np.dot(w_out, np.array([exam1, exam2])) + b_out)"
   ]
  },
  {
   "cell_type": "markdown",
   "id": "672d2683-d24e-44b6-9559-76989b4f8ca4",
   "metadata": {},
   "source": [
    "### Answer\n",
    "\n",
    "The probability of a student being admitted, given Exam 1 score of 100 and Exam 2 score of 50 is\n",
    "\n",
    "$$\n",
    "P(y=1|\\vec{\\textbf{x}};\\vec{w},b) = 0.82509\n",
    "$$\n",
    "\n",
    "or, **82.5%**"
   ]
  }
 ],
 "metadata": {
  "kernelspec": {
   "display_name": "Python 3 (ipykernel)",
   "language": "python",
   "name": "python3"
  },
  "language_info": {
   "codemirror_mode": {
    "name": "ipython",
    "version": 3
   },
   "file_extension": ".py",
   "mimetype": "text/x-python",
   "name": "python",
   "nbconvert_exporter": "python",
   "pygments_lexer": "ipython3",
   "version": "3.10.12"
  }
 },
 "nbformat": 4,
 "nbformat_minor": 5
}
