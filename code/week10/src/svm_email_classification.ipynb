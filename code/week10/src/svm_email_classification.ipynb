{
 "cells": [
  {
   "cell_type": "markdown",
   "id": "b34200a3-8be3-4012-9e2c-c8cf85d41b30",
   "metadata": {},
   "source": [
    "# SVM - Email Classification\n",
    "\n",
    "For this assignment, we will use the following dataset.\n",
    "\n",
    "**Problem Statement**: Spam email classification using Support Vector Machine: In this assignment you will use a SVM to classify emails into spam or non-spam categories. And report the classification accuracy for various SVM parameters and kernel functions. No programs need to be submitted. \n",
    "\n",
    "**Data Set Description**: An email is represented by various features like frequency of occurrences of certain keywords, length of capitalized words etc. A data set containing about 4601 instances are available in this link (data folder):\n",
    " https://archive.ics.uci.edu/ml/datasets/Spambase \n",
    "\n",
    "The data format is also described in the above link. You have to randomly pick 70% of the data set as training data and the remaining as test data.\n",
    "\n",
    "**Deliverables**: In this assignment you can use any SVM package to classify the above data set using sklearn svm implementation in Python. You have to study performance of the SVM algorithms. You have to use each of the following three kernel functions (a) Linear, (b) Quadratic, (c) RBF. ii. For each of the kernels, report the training and test set classification accuracy for the best value of generalization constant C. The best C value is the one which provides the best test set accuracy that you have found out by trial of different values of C. Report accuracies in the form of a comparison table, along with the values of C."
   ]
  },
  {
   "cell_type": "code",
   "execution_count": 1,
   "id": "5e78f7cc-195b-4d26-a943-eb722634dab6",
   "metadata": {},
   "outputs": [],
   "source": [
    "import numpy as np\n",
    "from sklearn.model_selection import train_test_split\n",
    "from sklearn.svm import SVC\n",
    "from sklearn.metrics import accuracy_score"
   ]
  },
  {
   "cell_type": "code",
   "execution_count": 2,
   "id": "cecd3fc2-a9e9-44a0-8b2e-8465d90b07a9",
   "metadata": {},
   "outputs": [],
   "source": [
    "data = np.genfromtxt('./data/spambase.data', delimiter=',')"
   ]
  },
  {
   "cell_type": "code",
   "execution_count": 3,
   "id": "97c8d43a-c276-4f63-802c-d81cf247e4ea",
   "metadata": {},
   "outputs": [],
   "source": [
    "X = data[:, :-1]  # Features\n",
    "y = data[:, -1]   # Labels"
   ]
  },
  {
   "cell_type": "code",
   "execution_count": 4,
   "id": "7a1cb691-7cb7-4d20-ab12-858ee1af4583",
   "metadata": {},
   "outputs": [],
   "source": [
    "X_train, X_test, y_train, y_test = train_test_split(X, y, test_size=0.3, random_state=123)"
   ]
  },
  {
   "cell_type": "markdown",
   "id": "d0f5a24a-a3d8-4360-beca-40a22ed3c35a",
   "metadata": {},
   "source": [
    "### Define the values of C to be tested"
   ]
  },
  {
   "cell_type": "code",
   "execution_count": 5,
   "id": "1ade698c-b693-42a3-bfff-4a1c901ce253",
   "metadata": {},
   "outputs": [],
   "source": [
    "C_values = [0.1, 1, 10, 100]"
   ]
  },
  {
   "cell_type": "markdown",
   "id": "3911ff37-b38a-4497-a4ed-5c1aead076ce",
   "metadata": {},
   "source": [
    "### Define kernel functions"
   ]
  },
  {
   "cell_type": "code",
   "execution_count": 6,
   "id": "87687383-5ead-4463-ac48-978a082c4870",
   "metadata": {},
   "outputs": [],
   "source": [
    "kernels = ['linear', 'poly', 'rbf']"
   ]
  },
  {
   "cell_type": "markdown",
   "id": "08699b29-c9b8-4e97-a585-e6bd63db89b1",
   "metadata": {},
   "source": [
    "### Initialize variables to store results"
   ]
  },
  {
   "cell_type": "code",
   "execution_count": 7,
   "id": "c3c86859-2ab3-499c-b465-e55bc06da776",
   "metadata": {},
   "outputs": [],
   "source": [
    "results = {}"
   ]
  },
  {
   "cell_type": "code",
   "execution_count": null,
   "id": "74d1e726-5398-41b5-8f9b-a7a546773bdd",
   "metadata": {},
   "outputs": [],
   "source": [
    "for kernel in kernels:\n",
    "    kernel_results = {'C': None, 'train_accuracy': 0, 'test_accuracy': 0}\n",
    "    \n",
    "    for C in C_values:\n",
    "        svm_model = SVC(C=C, kernel=kernel)\n",
    "        svm_model.fit(X_train, y_train)\n",
    "        \n",
    "        y_train_pred = svm_model.predict(X_train)\n",
    "        train_acc = accuracy_score(y_train, y_train_pred)\n",
    "        \n",
    "        y_test_pred = svm_model.predict(X_test)\n",
    "        test_acc = accuracy_score(y_test, y_test_pred)\n",
    "        \n",
    "        if test_acc > kernel_results['test_accuracy']:\n",
    "            kernel_results['C'] = C\n",
    "            kernel_results['train_accuracy'] = train_acc\n",
    "            kernel_results['test_accuracy'] = test_acc\n",
    "    \n",
    "    results[kernel] = kernel_results"
   ]
  },
  {
   "cell_type": "code",
   "execution_count": null,
   "id": "05aaf664-c046-4a69-bc52-519027b1fc67",
   "metadata": {},
   "outputs": [],
   "source": [
    "print(\"Kernel\\t\\tC\\t\\tTrain Accuracy\\t\\tTest Accuracy\")\n",
    "for kernel, result in results.items():\n",
    "    print(f\"{kernel}\\t\\t{result['C']}\\t\\t{result['train_accuracy']:.4f}\\t\\t{result['test_accuracy']:.4f}\")"
   ]
  }
 ],
 "metadata": {
  "kernelspec": {
   "display_name": "Python 3 (ipykernel)",
   "language": "python",
   "name": "python3"
  },
  "language_info": {
   "codemirror_mode": {
    "name": "ipython",
    "version": 3
   },
   "file_extension": ".py",
   "mimetype": "text/x-python",
   "name": "python",
   "nbconvert_exporter": "python",
   "pygments_lexer": "ipython3",
   "version": "3.10.12"
  }
 },
 "nbformat": 4,
 "nbformat_minor": 5
}
