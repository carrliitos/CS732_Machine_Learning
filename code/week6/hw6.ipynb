{
 "cells": [
  {
   "cell_type": "markdown",
   "id": "e9e876d6-be86-475d-a503-7c8b60679868",
   "metadata": {},
   "source": [
    "# Hw 6: Nearest Neighbors\n",
    "> Submit to Dropbox Hw6 by Oct 21 \n",
    "\n",
    "## Part 1.\n",
    "\n",
    "Your programs should read files provided. In this format, each instance is described on a single line. The feature values are separated by commas, and the last value on each line is the class label (for classification).  Lines starting with '%' are comments.\n",
    "- Your programs should  implement a k-nearest neighbor learner in a function according to the following guidelines:\n",
    "  - Assume that for classification tasks, the class attribute is named `class` and it is the last attribute listed among all the attributes.\n",
    "  - Assume that all features will be numeric.\n",
    "  - Use Euclidean distance to compute distances between instances.\n",
    "  - Implement basic k-NN.\n",
    "  - If there is a tie among multiple instances to be in the k-nearest neighbors, the tie should be broken in favor of those instances that come first in the data file.\n",
    "  - If there is a tie in the class predicted by the k-nearest neighbors, then among the classes that have the same number of votes, the tie should be broken in favor of the class comes first in the data file.\n",
    "\n",
    "You should include a function myKNN and should accept three arguments as follows: `myKNN(traindata,testdata, k)`\n",
    "\n",
    "The `myKNN()` function should use the training set and the given value of k to make classifications/predictions for every instance in the test set. This can be called from a main calling function. The main program should use p-fold cross validation (set `p=10`) with just the training data to select the value of k (used by NN) to use for the test set by evaluating k1 k2 k3…. (set it to any values you like) and selecting the one that results in the minimal cross-validated error within the training set.\n",
    "\n",
    "To measure error, you should use mean absolute error. The following link shows how to use cross validation with python, including generating indices for each fold.\n",
    "\n",
    "https://scikit-learn.org/stable/modules/generated/sklearn.model_selection.KFold.html\n",
    "\n",
    "As output, your programs should print the value of k used for the test set on the first line, and then the predictions for the test-set instances. For each instance in the test set, your program should print one line of output with spaces separating the fields.\n",
    "\n",
    "For a classification task, each output line should list the predicted class label, and actual class label. This should be followed by a line listing the number of correctly classified test instances, and the total number of instances in the test set. This should be followed by a line listing the mean absolute error for the test instances, and the total number of instances in the test set. Copy and paste this output to the .docx file you will submit to canvas.\n",
    "\n",
    "You should test your code on the following two data sets:\n",
    "- yeast_train.txt\n",
    "- yeast_test.txt\n",
    "\n",
    "## Part 2.\n",
    "\n",
    "For this part you will explore the effect of the k parameter on predictive accuracy.\n",
    "- For the yeast data set, draw a plot showing how test-set accuracy varies as a function of k. Your plot should show accuracy for k = 1, 5, 10, 15, 20 after p-fold cross validation (where p=10).\n",
    "- For the yeast data set, construct confusion matrices for the k = 1 and k = 15 test-set results (you don’t need to do cross validation for this). Show these confusion matrices and briefly discuss what the matrices tell you about the effect of k on the misclassifications.\n",
    "\n",
    "See how to create confusion matrices here.\n",
    "\n",
    "http://www.dataschool.io/simple-guide-to-confusion-matrix-terminology/\n",
    "\n",
    "The python code for confusion matrices can be found at \n",
    "\n",
    "https://scikit-learn.org/stable/modules/generated/sklearn.metrics.confusion_matrix.html\n",
    "\n",
    "Put these results in the .docx file (from both parts) and submit to dropbox."
   ]
  },
  {
   "cell_type": "code",
   "execution_count": null,
   "id": "2f3e7ab1-8cc5-462f-a1bb-386c219a9680",
   "metadata": {},
   "outputs": [],
   "source": []
  }
 ],
 "metadata": {
  "kernelspec": {
   "display_name": "Python 3 (ipykernel)",
   "language": "python",
   "name": "python3"
  },
  "language_info": {
   "codemirror_mode": {
    "name": "ipython",
    "version": 3
   },
   "file_extension": ".py",
   "mimetype": "text/x-python",
   "name": "python",
   "nbconvert_exporter": "python",
   "pygments_lexer": "ipython3",
   "version": "3.10.12"
  }
 },
 "nbformat": 4,
 "nbformat_minor": 5
}
