{
 "cells": [
  {
   "cell_type": "code",
   "execution_count": 28,
   "id": "2d88d336-d976-4afa-8bee-6af994b8dbe0",
   "metadata": {},
   "outputs": [
    {
     "name": "stdout",
     "output_type": "stream",
     "text": [
      "1469 11 3429 11\n"
     ]
    }
   ],
   "source": [
    "import numpy as np\n",
    "from sklearn.metrics.pairwise import euclidean_distances\n",
    "from sklearn.model_selection import train_test_split\n",
    "from sklearn.model_selection import KFold\n",
    "import scipy.stats as sp\n",
    "\n",
    "\n",
    "def normalize(Data):\n",
    "    n,m=Data.shape\n",
    "    avg=np.mean(Data, axis=0)    # find col means\n",
    "    for i in range(0,m-1):\n",
    "        temp=Data[:,i] - avg[i]  # subtract mean\n",
    "        s=np.std(Data[:,i])\n",
    "        Data[:,i]=temp/s   # div by standard dev\n",
    "    return Data\n",
    "\n",
    "\n",
    "def myKNN(train,Labeltrain,test,K):\n",
    "    n1, m1= train.shape\n",
    "    n2, m2=test.shape\n",
    "    D = euclidean_distances(test,train) # n2 by n1 each row i contains distances to training set from test sample i\n",
    "    Ytest = np.zeros(n2)\n",
    "    for i in range(0, n2):    \n",
    "        ind = np.argsort(D[i,:])\n",
    "        ktoplabels = Labeltrain[ind[0:K]]\n",
    "        L = sp.mode(ktoplabels)\n",
    "        Ytest[i] = L.mode.item() #np.asscalar(L.mode)\n",
    "    return Ytest\n",
    "\n",
    "train = np.genfromtxt('./data/wine_train.txt', delimiter=',',dtype=float)\n",
    "Labeltrain = train[:,11]   ###label of train\n",
    "train = train[:,0:11]    ###features of train\n",
    "\n",
    "test = np.genfromtxt('./data/wine_test.txt', delimiter=',',dtype=float)\n",
    "Labeltest = test[:,11]   #label of test\n",
    "test =test[:,0:11]      #features of test\n",
    "\n",
    "n1, m1 = train.shape\n",
    "n2, m2 =test.shape\n",
    "print(n1,m1,n2,m2)\n",
    "\n",
    "Data = np.concatenate((train,test),axis=0)\n",
    "Data = normalize(Data)\n",
    "Train = Data[0:n1,:]\n",
    "Test = Data[n1:n1+n2,:]"
   ]
  },
  {
   "cell_type": "code",
   "execution_count": 29,
   "id": "92c49340-b760-448a-9308-f388e7dc2b13",
   "metadata": {},
   "outputs": [
    {
     "ename": "AttributeError",
     "evalue": "'tuple' object has no attribute 'astype'",
     "output_type": "error",
     "traceback": [
      "\u001b[0;31m---------------------------------------------------------------------------\u001b[0m",
      "\u001b[0;31mAttributeError\u001b[0m                            Traceback (most recent call last)",
      "Cell \u001b[0;32mIn[29], line 11\u001b[0m\n\u001b[1;32m      9\u001b[0m     Ytest \u001b[38;5;241m=\u001b[39m myKNN(train[train_index,:],Labeltrain[train_index],train[test_index,:],K) \u001b[38;5;66;03m#return value is the prediction\u001b[39;00m\n\u001b[1;32m     10\u001b[0m     n \u001b[38;5;241m=\u001b[39m test_index\u001b[38;5;241m.\u001b[39mshape\n\u001b[0;32m---> 11\u001b[0m     Acc \u001b[38;5;241m=\u001b[39m (\u001b[43m(\u001b[49m\u001b[43mYtest\u001b[49m\u001b[38;5;241;43m==\u001b[39;49m\u001b[43m \u001b[49m\u001b[43mLabeltrain\u001b[49m\u001b[43m[\u001b[49m\u001b[43mtest_index\u001b[49m\u001b[43m]\u001b[49m\u001b[43m,\u001b[49m\u001b[43m)\u001b[49m\u001b[38;5;241;43m.\u001b[39;49m\u001b[43mastype\u001b[49m(\u001b[38;5;124m'\u001b[39m\u001b[38;5;124muint8\u001b[39m\u001b[38;5;124m'\u001b[39m))\u001b[38;5;241m.\u001b[39msum()\u001b[38;5;241m/\u001b[39mn[\u001b[38;5;241m0\u001b[39m]\n\u001b[1;32m     12\u001b[0m \u001b[38;5;66;03m# AvgAcc across each fold for a particular choice of K\u001b[39;00m\n\u001b[1;32m     13\u001b[0m \u001b[38;5;66;03m# bestK=find the K with maximum Avgacc\u001b[39;00m\n",
      "\u001b[0;31mAttributeError\u001b[0m: 'tuple' object has no attribute 'astype'"
     ]
    }
   ],
   "source": [
    "# for homework\n",
    "Kchoices=np.array([5, 10 , 15, 20])\n",
    "for i in range(0, len(Kchoices)):\n",
    "    K = Kchoices[i]\n",
    "    kf = KFold(n_splits=10)\n",
    "    kf.get_n_splits(train)\n",
    "\n",
    "for train_index, test_index in kf.split(train):\n",
    "    Ytest = myKNN(train[train_index,:],Labeltrain[train_index],train[test_index,:],K) #return value is the prediction\n",
    "    n = test_index.shape\n",
    "    Acc = ((Ytest== Labeltrain[test_index],).astype('uint8')).sum()/n[0]\n",
    "# AvgAcc across each fold for a particular choice of K\n",
    "# bestK=find the K with maximum Avgacc"
   ]
  },
  {
   "cell_type": "code",
   "execution_count": null,
   "id": "33157ded-fac9-42fe-9a5c-2cc26c6713da",
   "metadata": {},
   "outputs": [],
   "source": [
    "Ytest=myKNN(train,Labeltrain,test ,bestK)\n",
    " Acc=((Ytest==Labeltest).astype(‘uint8’)).sum()/n2\n",
    "Err= 1 -Acc\n",
    "print(Acc,Err)"
   ]
  }
 ],
 "metadata": {
  "kernelspec": {
   "display_name": "Python 3 (ipykernel)",
   "language": "python",
   "name": "python3"
  },
  "language_info": {
   "codemirror_mode": {
    "name": "ipython",
    "version": 3
   },
   "file_extension": ".py",
   "mimetype": "text/x-python",
   "name": "python",
   "nbconvert_exporter": "python",
   "pygments_lexer": "ipython3",
   "version": "3.10.12"
  }
 },
 "nbformat": 4,
 "nbformat_minor": 5
}
