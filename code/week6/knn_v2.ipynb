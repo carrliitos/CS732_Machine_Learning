{
 "cells": [
  {
   "cell_type": "code",
   "execution_count": 3,
   "id": "1596253f-38b5-44c7-a5c1-238d1f426253",
   "metadata": {},
   "outputs": [],
   "source": [
    "import numpy as np\n",
    "import operator"
   ]
  },
  {
   "cell_type": "code",
   "execution_count": 4,
   "id": "0542608f-ab72-4dc7-b506-94d8c489cf18",
   "metadata": {},
   "outputs": [],
   "source": [
    "def d_euc(x, y):\n",
    "    d = np.sqrt(np.sum(np.square(x - y)))\n",
    "    return d"
   ]
  },
  {
   "cell_type": "code",
   "execution_count": 5,
   "id": "92747ea4-a9b8-4f1a-9e25-06ab84bf1a37",
   "metadata": {},
   "outputs": [],
   "source": [
    "def majority_voting(class_count):\n",
    "    sorted_class_count = sorted(class_count.items(), key=operator.itemgetter(1), reverse=True)\n",
    "    return sorted_class_count"
   ]
  },
  {
   "cell_type": "code",
   "execution_count": 6,
   "id": "ef3de626-c75e-4295-affc-eaabb5317df8",
   "metadata": {},
   "outputs": [],
   "source": [
    "def knn_classify(test_data, train_data, labels, k):\n",
    "    distances = np.array([])  # Create an empty array to save the distance\n",
    "    for each_data in train_data:  # Calculate data similarity using Euclidean distance\n",
    "        d = d_euc(test_data, each_data)\n",
    "        distances = np.append(distances, d)\n",
    "    sorted_distance_index = distances.argsort()  # Get the indices sorted by distance\n",
    "    sorted_distance = np.sort(distances)\n",
    "    r = (sorted_distance[k]+sorted_distance[k-1])/2  # Calculate the radius\n",
    "    class_count = {}\n",
    "    for i in range(k):  # Majority vote\n",
    "        vote_label = labels[sorted_distance_index[i]]\n",
    "        class_count[vote_label] = class_count.get(vote_label, 0) + 1\n",
    "    final_label = majority_voting(class_count)\n",
    "    return final_label, r"
   ]
  },
  {
   "cell_type": "code",
   "execution_count": null,
   "id": "56a1edbf-aa4e-4e3a-9335-5bdbc9b40a8d",
   "metadata": {},
   "outputs": [],
   "source": []
  }
 ],
 "metadata": {
  "kernelspec": {
   "display_name": "Python 3 (ipykernel)",
   "language": "python",
   "name": "python3"
  },
  "language_info": {
   "codemirror_mode": {
    "name": "ipython",
    "version": 3
   },
   "file_extension": ".py",
   "mimetype": "text/x-python",
   "name": "python",
   "nbconvert_exporter": "python",
   "pygments_lexer": "ipython3",
   "version": "3.10.12"
  }
 },
 "nbformat": 4,
 "nbformat_minor": 5
}
