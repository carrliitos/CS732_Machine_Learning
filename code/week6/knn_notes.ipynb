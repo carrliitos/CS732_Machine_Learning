{
 "cells": [
  {
   "cell_type": "markdown",
   "id": "fa3b3ba3-f35a-40b0-b3a9-33306797d380",
   "metadata": {},
   "source": [
    "# k-Nearest Neighbors\n",
    "\n",
    "- kNN is a supervised machine learning model\n",
    "\n",
    "## kNN is a Nonlinear learning algorithm\n",
    "\n",
    "Linear models are models that predict using lines or hyperplanes. The model $y=mx+b$ is the classical example of a linear model. Nonlinear models are models that use any approach other than a line to separate their cases. A well-known example is the decision tree, which is basically a long list of if...else statements.\n",
    "\n",
    "## kNN is a Supervised Learner for both Classification and Regression\n",
    "\n",
    "Supervised machine learning algorithms can be split into two groups based on the type of target variable that they can predict:\n",
    "\n",
    "1. **Classification** is a prediction task with *categorical* target variable. Classification models learn how to classify any new obervation. This assigned class can be either right or wrong, not in between. A classic example of classification is the iris dataset, in which you use physical measurements of plants to predict their species. A famous algorithm that can be used for classification is logistic regression.\n",
    "2. **Regression** is a prediction task in which the target variable is *numeric*. A famous example is the Housing Prices Challenge on Kaggle. In this machine learning contest, participants try to predict the sales prices of houses based on numerous independent variables.\n",
    "\n",
    "For a single prediction, classifications are either right or wrong, while regressions have an error on a continuous scale. Having a numeric error measure is more practical, so many classification models predict not only the class but also the probability of being in either of the classes.\n",
    "\n",
    "## kNN is Fast and Interpretable\n",
    "\n",
    "As a final criterion to characterize machine learning models, you need to take into account **model complexity**. Machine learning, and especiaaly Artificial Intelligence, is currently blooming and is being used in many complicated tasks."
   ]
  },
  {
   "cell_type": "markdown",
   "id": "9daf998f-b613-4e85-a04a-69cfbc92d552",
   "metadata": {},
   "source": [
    "## The Abalone Problem Statement\n",
    "\n",
    "The age of an abalone can be found by cutting its shell and counting the number of rings on the shell. In the Abalone Dataset, you can find the age measurements of a large number of abalones along with a lot of other physical measurements.\n",
    "\n",
    "The goal of the project is to develop a model that can predict the age of an abalone based purely on the other physical measurements. This would allow researchers to estimate the abalone’s age without having to cut its shell and count the rings."
   ]
  },
  {
   "cell_type": "code",
   "execution_count": 1,
   "id": "bac10c3f-109f-46b8-8759-12df889eb648",
   "metadata": {},
   "outputs": [],
   "source": [
    "import pandas as pd"
   ]
  },
  {
   "cell_type": "code",
   "execution_count": 2,
   "id": "8890c532-dcee-46f1-8312-9d1225416ed5",
   "metadata": {},
   "outputs": [],
   "source": [
    "url = (\"https://archive.ics.uci.edu/ml/machine-learning-databases/abalone/abalone.data\")\n",
    "abalone_df = pd.read_csv(url, header=None)"
   ]
  },
  {
   "cell_type": "code",
   "execution_count": 3,
   "id": "c3b39ee0-fb50-49b8-8101-ed321d43932d",
   "metadata": {},
   "outputs": [
    {
     "data": {
      "text/html": [
       "<div>\n",
       "<style scoped>\n",
       "    .dataframe tbody tr th:only-of-type {\n",
       "        vertical-align: middle;\n",
       "    }\n",
       "\n",
       "    .dataframe tbody tr th {\n",
       "        vertical-align: top;\n",
       "    }\n",
       "\n",
       "    .dataframe thead th {\n",
       "        text-align: right;\n",
       "    }\n",
       "</style>\n",
       "<table border=\"1\" class=\"dataframe\">\n",
       "  <thead>\n",
       "    <tr style=\"text-align: right;\">\n",
       "      <th></th>\n",
       "      <th>0</th>\n",
       "      <th>1</th>\n",
       "      <th>2</th>\n",
       "      <th>3</th>\n",
       "      <th>4</th>\n",
       "      <th>5</th>\n",
       "      <th>6</th>\n",
       "      <th>7</th>\n",
       "      <th>8</th>\n",
       "    </tr>\n",
       "  </thead>\n",
       "  <tbody>\n",
       "    <tr>\n",
       "      <th>0</th>\n",
       "      <td>M</td>\n",
       "      <td>0.455</td>\n",
       "      <td>0.365</td>\n",
       "      <td>0.095</td>\n",
       "      <td>0.5140</td>\n",
       "      <td>0.2245</td>\n",
       "      <td>0.1010</td>\n",
       "      <td>0.150</td>\n",
       "      <td>15</td>\n",
       "    </tr>\n",
       "    <tr>\n",
       "      <th>1</th>\n",
       "      <td>M</td>\n",
       "      <td>0.350</td>\n",
       "      <td>0.265</td>\n",
       "      <td>0.090</td>\n",
       "      <td>0.2255</td>\n",
       "      <td>0.0995</td>\n",
       "      <td>0.0485</td>\n",
       "      <td>0.070</td>\n",
       "      <td>7</td>\n",
       "    </tr>\n",
       "    <tr>\n",
       "      <th>2</th>\n",
       "      <td>F</td>\n",
       "      <td>0.530</td>\n",
       "      <td>0.420</td>\n",
       "      <td>0.135</td>\n",
       "      <td>0.6770</td>\n",
       "      <td>0.2565</td>\n",
       "      <td>0.1415</td>\n",
       "      <td>0.210</td>\n",
       "      <td>9</td>\n",
       "    </tr>\n",
       "    <tr>\n",
       "      <th>3</th>\n",
       "      <td>M</td>\n",
       "      <td>0.440</td>\n",
       "      <td>0.365</td>\n",
       "      <td>0.125</td>\n",
       "      <td>0.5160</td>\n",
       "      <td>0.2155</td>\n",
       "      <td>0.1140</td>\n",
       "      <td>0.155</td>\n",
       "      <td>10</td>\n",
       "    </tr>\n",
       "    <tr>\n",
       "      <th>4</th>\n",
       "      <td>I</td>\n",
       "      <td>0.330</td>\n",
       "      <td>0.255</td>\n",
       "      <td>0.080</td>\n",
       "      <td>0.2050</td>\n",
       "      <td>0.0895</td>\n",
       "      <td>0.0395</td>\n",
       "      <td>0.055</td>\n",
       "      <td>7</td>\n",
       "    </tr>\n",
       "  </tbody>\n",
       "</table>\n",
       "</div>"
      ],
      "text/plain": [
       "   0      1      2      3       4       5       6      7   8\n",
       "0  M  0.455  0.365  0.095  0.5140  0.2245  0.1010  0.150  15\n",
       "1  M  0.350  0.265  0.090  0.2255  0.0995  0.0485  0.070   7\n",
       "2  F  0.530  0.420  0.135  0.6770  0.2565  0.1415  0.210   9\n",
       "3  M  0.440  0.365  0.125  0.5160  0.2155  0.1140  0.155  10\n",
       "4  I  0.330  0.255  0.080  0.2050  0.0895  0.0395  0.055   7"
      ]
     },
     "execution_count": 3,
     "metadata": {},
     "output_type": "execute_result"
    }
   ],
   "source": [
    "abalone_df.head()"
   ]
  },
  {
   "cell_type": "code",
   "execution_count": 5,
   "id": "bbf91255-8ffe-4e50-b021-dd5af1f30b45",
   "metadata": {},
   "outputs": [],
   "source": [
    "abalone_df.columns = [\n",
    "    \"Sex\",\n",
    "    \"Length\",\n",
    "    \"Diameter\",\n",
    "    \"Height\",\n",
    "    \"Whole weight\",\n",
    "    \"Shucked weight\",\n",
    "    \"Viscera weight\",\n",
    "    \"Shell weight\",\n",
    "    \"Rings\"\n",
    "]"
   ]
  },
  {
   "cell_type": "code",
   "execution_count": 7,
   "id": "bbab3229-896c-4ae2-be17-d3ca7d8d0779",
   "metadata": {},
   "outputs": [
    {
     "data": {
      "text/html": [
       "<div>\n",
       "<style scoped>\n",
       "    .dataframe tbody tr th:only-of-type {\n",
       "        vertical-align: middle;\n",
       "    }\n",
       "\n",
       "    .dataframe tbody tr th {\n",
       "        vertical-align: top;\n",
       "    }\n",
       "\n",
       "    .dataframe thead th {\n",
       "        text-align: right;\n",
       "    }\n",
       "</style>\n",
       "<table border=\"1\" class=\"dataframe\">\n",
       "  <thead>\n",
       "    <tr style=\"text-align: right;\">\n",
       "      <th></th>\n",
       "      <th>Sex</th>\n",
       "      <th>Length</th>\n",
       "      <th>Diameter</th>\n",
       "      <th>Height</th>\n",
       "      <th>Whole weight</th>\n",
       "      <th>Shucked weight</th>\n",
       "      <th>Viscera weight</th>\n",
       "      <th>Shell weight</th>\n",
       "      <th>Rings</th>\n",
       "    </tr>\n",
       "  </thead>\n",
       "  <tbody>\n",
       "    <tr>\n",
       "      <th>0</th>\n",
       "      <td>M</td>\n",
       "      <td>0.455</td>\n",
       "      <td>0.365</td>\n",
       "      <td>0.095</td>\n",
       "      <td>0.5140</td>\n",
       "      <td>0.2245</td>\n",
       "      <td>0.1010</td>\n",
       "      <td>0.150</td>\n",
       "      <td>15</td>\n",
       "    </tr>\n",
       "    <tr>\n",
       "      <th>1</th>\n",
       "      <td>M</td>\n",
       "      <td>0.350</td>\n",
       "      <td>0.265</td>\n",
       "      <td>0.090</td>\n",
       "      <td>0.2255</td>\n",
       "      <td>0.0995</td>\n",
       "      <td>0.0485</td>\n",
       "      <td>0.070</td>\n",
       "      <td>7</td>\n",
       "    </tr>\n",
       "    <tr>\n",
       "      <th>2</th>\n",
       "      <td>F</td>\n",
       "      <td>0.530</td>\n",
       "      <td>0.420</td>\n",
       "      <td>0.135</td>\n",
       "      <td>0.6770</td>\n",
       "      <td>0.2565</td>\n",
       "      <td>0.1415</td>\n",
       "      <td>0.210</td>\n",
       "      <td>9</td>\n",
       "    </tr>\n",
       "    <tr>\n",
       "      <th>3</th>\n",
       "      <td>M</td>\n",
       "      <td>0.440</td>\n",
       "      <td>0.365</td>\n",
       "      <td>0.125</td>\n",
       "      <td>0.5160</td>\n",
       "      <td>0.2155</td>\n",
       "      <td>0.1140</td>\n",
       "      <td>0.155</td>\n",
       "      <td>10</td>\n",
       "    </tr>\n",
       "    <tr>\n",
       "      <th>4</th>\n",
       "      <td>I</td>\n",
       "      <td>0.330</td>\n",
       "      <td>0.255</td>\n",
       "      <td>0.080</td>\n",
       "      <td>0.2050</td>\n",
       "      <td>0.0895</td>\n",
       "      <td>0.0395</td>\n",
       "      <td>0.055</td>\n",
       "      <td>7</td>\n",
       "    </tr>\n",
       "  </tbody>\n",
       "</table>\n",
       "</div>"
      ],
      "text/plain": [
       "  Sex  Length  Diameter  Height  Whole weight  Shucked weight  Viscera weight  \\\n",
       "0   M   0.455     0.365   0.095        0.5140          0.2245          0.1010   \n",
       "1   M   0.350     0.265   0.090        0.2255          0.0995          0.0485   \n",
       "2   F   0.530     0.420   0.135        0.6770          0.2565          0.1415   \n",
       "3   M   0.440     0.365   0.125        0.5160          0.2155          0.1140   \n",
       "4   I   0.330     0.255   0.080        0.2050          0.0895          0.0395   \n",
       "\n",
       "   Shell weight  Rings  \n",
       "0         0.150     15  \n",
       "1         0.070      7  \n",
       "2         0.210      9  \n",
       "3         0.155     10  \n",
       "4         0.055      7  "
      ]
     },
     "execution_count": 7,
     "metadata": {},
     "output_type": "execute_result"
    }
   ],
   "source": [
    "abalone_df.head()"
   ]
  },
  {
   "cell_type": "code",
   "execution_count": 8,
   "id": "20e9c361-6961-418e-b6ad-a134c6b8fb97",
   "metadata": {},
   "outputs": [],
   "source": [
    "# removing Sex column since we only want physical measurements\n",
    "abalone_df = abalone_df.drop(\"Sex\", axis=1)"
   ]
  },
  {
   "cell_type": "markdown",
   "id": "eeab64b0-7fe4-4a45-a3bd-2f026021137c",
   "metadata": {},
   "source": [
    "## Descriptive Statistics for the Abalone Dataset"
   ]
  },
  {
   "cell_type": "code",
   "execution_count": 9,
   "id": "bf382710-e840-4212-8f66-bd5d5b000642",
   "metadata": {},
   "outputs": [],
   "source": [
    "import matplotlib.pyplot as plt"
   ]
  },
  {
   "cell_type": "code",
   "execution_count": 11,
   "id": "6ea4b26e-06e2-48bc-aa56-e0160a2a210a",
   "metadata": {},
   "outputs": [
    {
     "data": {
      "image/png": "[encoded data removed]",
      "text/plain": [
       "<Figure size 640x480 with 1 Axes>"
      ]
     },
     "metadata": {},
     "output_type": "display_data"
    }
   ],
   "source": [
    "# Take a look at the rings\n",
    "abalone_df[\"Rings\"].hist(bins=15)\n",
    "plt.show()"
   ]
  },
  {
   "cell_type": "markdown",
   "id": "5c80e50b-a3d6-4c19-b123-7fa4e9cef632",
   "metadata": {},
   "source": [
    "Most abalones have between five and fifteen rings, but that it is possible to get up to twenty-five rings. The older abalones are underrepresented in this dataset. This seems intuitive, as age distributions are generally skewed like this due to natural processes.\n",
    "\n",
    "A second relevant exploration is to find out which of the variables, if any, have a strong correlation with the age. A strong correlation between an independent variable and your goal will be a good sign, as this would confirm that physical measurements and age are related."
   ]
  },
  {
   "cell_type": "code",
   "execution_count": 12,
   "id": "f886b440-f916-46e3-9f87-a723a26e6072",
   "metadata": {},
   "outputs": [
    {
     "data": {
      "text/plain": [
       "Length            0.556720\n",
       "Diameter          0.574660\n",
       "Height            0.557467\n",
       "Whole weight      0.540390\n",
       "Shucked weight    0.420884\n",
       "Viscera weight    0.503819\n",
       "Shell weight      0.627574\n",
       "Rings             1.000000\n",
       "Name: Rings, dtype: float64"
      ]
     },
     "execution_count": 12,
     "metadata": {},
     "output_type": "execute_result"
    }
   ],
   "source": [
    "correlation_matrix = abalone_df.corr()\n",
    "correlation_matrix[\"Rings\"]"
   ]
  },
  {
   "cell_type": "markdown",
   "id": "eee9cb69-526b-4e8d-879b-4b1f2b4ec5d1",
   "metadata": {},
   "source": [
    "The closer the correlation values are to 1, the more correlation there is.\n",
    "\n",
    "We can conclude that there's at least some correlation between physcial measurements of adult abalines and their age, yet it's also not very high. Very high correlations mean that you can expect a straightforward modeling process. In this case, you'll have to try and see what results you can obtain using the kNN algorithm."
   ]
  },
  {
   "cell_type": "markdown",
   "id": "033f3c42-d98a-4ba6-b9ff-34e74964d0c5",
   "metadata": {},
   "source": [
    "# A Step-by-Step kNN from Scratch\n",
    "\n",
    "## Plain English Walkthrough of the kNN Algorithm\n",
    "\n",
    "The kNN algorithm is a little bit atypical as compared to other machine learning algorithms. The specificity of the k-Nearest Neighbors algorithm is that this formula is computed not at the moment of fitting but rather at the moment of prediction. This is not the case for most other models.\n",
    "\n",
    "When a new data point arrives, the kNn algorithm, as the name indicates, will start by finding the nearest neighbors of this new data point. Then, it takes the values of those neighbords and uses them as a prediction for the new data point. \n",
    "\n",
    "As an intuitive example of why this works, think of your neighbors. You neighbors are often relatively similar to you. They're probably in the same socioeconomic class as you. Maybe they have the same type of work as you, maybe their children go to the same school as yours, and so on. But for some tasks, this kind of approach is not useful. For instance, it wouldn't make any sense to look your neighbor's favorite color to predict yours.\n",
    "\n",
    "The kNN algorithm is based onthe notion that you can predict the features of a data point based on the features of its neighbors. In some cases, this method of prediction may be successful, while in other cases it may not.\n",
    "\n",
    "## Define **Nearest** using a mathematical definition of distance\n",
    "\n",
    "To find the data points that are closest to the point that you need to predict, you can use a mathematical definition of Euclidean Distance. The Euclidean Distance is given by the following formula:\n",
    "\n",
    "$$\n",
    "d(p,q)=\\sqrt{\\sum\\limits_{i=1}^{n}(q_{i}-p_{i})^{2}}\n",
    "$$\n",
    "\n",
    "where \n",
    "- $p,q$ = two points in Euclidean n-space,\n",
    "- $q_{i},p_{i}$ = Euclidean vectors, starting from the origin of the space, and\n",
    "- $n$ = n-space.\n",
    "\n",
    "(It's literally the Pythagorean Theorem on a Euclidean space. Lol.)\n",
    "\n",
    "We use Python's `linalg.norm()` to calculate this, or we can manually calculate it."
   ]
  },
  {
   "cell_type": "code",
   "execution_count": 13,
   "id": "18cec1c7-39ec-49d9-ba63-fb924f1e70f8",
   "metadata": {},
   "outputs": [
    {
     "data": {
      "text/plain": [
       "2.8284271247461903"
      ]
     },
     "execution_count": 13,
     "metadata": {},
     "output_type": "execute_result"
    }
   ],
   "source": [
    "import numpy as np\n",
    "a = np.array([2, 2])\n",
    "b = np.array([4, 4])\n",
    "np.linalg.norm(a - b)"
   ]
  },
  {
   "cell_type": "code",
   "execution_count": 16,
   "id": "f6199b87-97c2-4659-a312-a21d3544840b",
   "metadata": {},
   "outputs": [
    {
     "data": {
      "text/plain": [
       "2.8284271247461903"
      ]
     },
     "execution_count": 16,
     "metadata": {},
     "output_type": "execute_result"
    }
   ],
   "source": [
    "np.sqrt(((b[0] - a[0]) ** 2) + ((b[1] - a[1]) ** 2))"
   ]
  },
  {
   "cell_type": "markdown",
   "id": "b5b21187-6be5-48a3-b42a-86fba35dbc0a",
   "metadata": {},
   "source": [
    "## Find the k Nearest Neighbors\n",
    "\n",
    "We need to find a number of neighbors, and that number is given by `k`. The minimum value of `k` is 1. This means using only one neighbor for the prediction. The maximum is the number of data points that you have. This means using all the neighbors. The value of `k` is something that the user defines. Optimization tools can help us with this."
   ]
  },
  {
   "cell_type": "code",
   "execution_count": 17,
   "id": "db350feb-3099-49fd-8ee5-037d49e3aeb3",
   "metadata": {},
   "outputs": [],
   "source": [
    "X = abalone_df.drop(\"Rings\", axis=1)\n",
    "X = X.values\n",
    "y = abalone_df[\"Rings\"]\n",
    "y = y.values"
   ]
  },
  {
   "cell_type": "code",
   "execution_count": 18,
   "id": "db650c8a-1c17-43f8-935a-d8d9881ae8ab",
   "metadata": {},
   "outputs": [
    {
     "data": {
      "text/plain": [
       "array([[0.455 , 0.365 , 0.095 , ..., 0.2245, 0.101 , 0.15  ],\n",
       "       [0.35  , 0.265 , 0.09  , ..., 0.0995, 0.0485, 0.07  ],\n",
       "       [0.53  , 0.42  , 0.135 , ..., 0.2565, 0.1415, 0.21  ],\n",
       "       ...,\n",
       "       [0.6   , 0.475 , 0.205 , ..., 0.5255, 0.2875, 0.308 ],\n",
       "       [0.625 , 0.485 , 0.15  , ..., 0.531 , 0.261 , 0.296 ],\n",
       "       [0.71  , 0.555 , 0.195 , ..., 0.9455, 0.3765, 0.495 ]])"
      ]
     },
     "execution_count": 18,
     "metadata": {},
     "output_type": "execute_result"
    }
   ],
   "source": [
    "X"
   ]
  },
  {
   "cell_type": "code",
   "execution_count": 19,
   "id": "b3fbc3e8-a4ea-402e-b67f-8cf819d577d9",
   "metadata": {},
   "outputs": [
    {
     "data": {
      "text/plain": [
       "array([15,  7,  9, ...,  9, 10, 12])"
      ]
     },
     "execution_count": 19,
     "metadata": {},
     "output_type": "execute_result"
    }
   ],
   "source": [
    "y"
   ]
  },
  {
   "cell_type": "markdown",
   "id": "66bc63f6-d875-4711-b0a6-5aed3a76c49d",
   "metadata": {},
   "source": [
    "We apply a kNN with `k = 3` on a new abalone that has the following physical measurements:\n",
    "\n",
    "| Variable          | Value    |\n",
    "|:-----------------:|:--------:|\n",
    "| Length            | 0.569552 |\n",
    "| Diameter          | 0.446407 |\n",
    "| Height            | 0.154437 |\n",
    "| Whole weight      | 1.016849 |\n",
    "| Shucked weight    | 0.439051 |\n",
    "| Viscera weight    | 0.222526 |\n",
    "| Shell weight      | 0.291208 |"
   ]
  },
  {
   "cell_type": "code",
   "execution_count": 21,
   "id": "4e926454-619b-44d5-a900-31d30705aba2",
   "metadata": {},
   "outputs": [],
   "source": [
    "new_data_point = np.array([\n",
    "    0.569552,\n",
    "    0.446407,\n",
    "    0.154437,\n",
    "    1.016849,\n",
    "    0.439051,\n",
    "    0.222526,\n",
    "    0.291208\n",
    "])"
   ]
  },
  {
   "cell_type": "code",
   "execution_count": 23,
   "id": "88d282de-095d-41ba-ac78-c75dec6cc3e3",
   "metadata": {},
   "outputs": [
    {
     "data": {
      "text/plain": [
       "array([0.59739395, 0.9518455 , 0.40573594, ..., 0.20397872, 0.14342627,\n",
       "       1.10583307])"
      ]
     },
     "execution_count": 23,
     "metadata": {},
     "output_type": "execute_result"
    }
   ],
   "source": [
    "# compute the distances between this new data point and each of the data points in the Abalone Dataset\n",
    "\n",
    "distances = np.linalg.norm(X - new_data_point, axis=1)\n",
    "\n",
    "distances"
   ]
  },
  {
   "cell_type": "markdown",
   "id": "ca8f2a1b-9523-4773-bec2-295ad68e5bac",
   "metadata": {},
   "source": [
    "We now have a vector of distances and we need to find out which are the three closest neighbors. To do this, we need to find the IDs of the minimum distances. We can use the `.argsort()` to sort the array from lowest to highest, and we can take the first `k` elements to obtain the indices of the k nearest neighbors."
   ]
  },
  {
   "cell_type": "code",
   "execution_count": 24,
   "id": "bb278dcb-466d-43dc-a3e3-a2bd3e62fabd",
   "metadata": {},
   "outputs": [
    {
     "data": {
      "text/plain": [
       "array([4045, 1902, 1644])"
      ]
     },
     "execution_count": 24,
     "metadata": {},
     "output_type": "execute_result"
    }
   ],
   "source": [
    "k = 3\n",
    "nearest_neighbor_ids = distances.argsort()[:k]\n",
    "nearest_neighbor_ids"
   ]
  },
  {
   "cell_type": "markdown",
   "id": "9e39d1f7-cad9-4037-af41-d74fc0555685",
   "metadata": {},
   "source": [
    "## Voting or Averaging of Multiple Neighbors\n",
    "\n",
    "Having identified the indices of the three nearest neighbors of the abalone of unknown age, we need to combine those neighbors into a prediction for the new datapoint."
   ]
  },
  {
   "cell_type": "code",
   "execution_count": 26,
   "id": "bbb7a2d5-2d38-4d39-bc1c-e4c66b8f1ea7",
   "metadata": {},
   "outputs": [
    {
     "data": {
      "text/plain": [
       "array([ 9, 11, 10])"
      ]
     },
     "execution_count": 26,
     "metadata": {},
     "output_type": "execute_result"
    }
   ],
   "source": [
    "# first, find the ground truths for those three neighbors:\n",
    "nearest_neighbor_rings = y[nearest_neighbor_ids]\n",
    "nearest_neighbor_rings"
   ]
  },
  {
   "cell_type": "markdown",
   "id": "d54155e9-317a-4115-b3cd-35517037757c",
   "metadata": {},
   "source": [
    "## Average for Regression\n",
    "\n",
    "In regression problems, the target variable is numeric. You combine multiple neighbors into one prediction by taking the average of their values of the target variable."
   ]
  },
  {
   "cell_type": "code",
   "execution_count": 29,
   "id": "8bd47aa6-2b4c-443c-861d-949778346541",
   "metadata": {},
   "outputs": [
    {
     "data": {
      "text/plain": [
       "10.0"
      ]
     },
     "execution_count": 29,
     "metadata": {},
     "output_type": "execute_result"
    }
   ],
   "source": [
    "prediction = nearest_neighbor_rings.mean()\n",
    "prediction"
   ]
  },
  {
   "cell_type": "markdown",
   "id": "58935557-d621-4ccb-82dc-7bf33a26e2c5",
   "metadata": {},
   "source": [
    "This means that the 3-nearest neighbors prediction for the new datapoint is 10."
   ]
  },
  {
   "cell_type": "markdown",
   "id": "bb6f1dc0-cd75-4734-a1a7-205928eae2b9",
   "metadata": {},
   "source": [
    "## Mode for Classification\n",
    "\n",
    "In classification problems, the target variable is categorical. Instead of averages, you take the **mode**. The mode is the value that occurs most often. This means that you count the classes of all the neighbors, and you retain the most common class. The prediction is the value that occurs most often among the neighbors.\n",
    "\n",
    "If there are multiple modes, there are multiple solutions. You could select a final winner randomly from the winners. You could also make the final decision based on the distances of the neighbors, in which case the mode of the closest neighbors would be retained. \n",
    "\n",
    "We compute the mode using pandas' `df.value_counts()` function."
   ]
  },
  {
   "cell_type": "code",
   "execution_count": 50,
   "id": "73801521-19b3-41f1-8067-9b181519f60b",
   "metadata": {},
   "outputs": [
    {
     "data": {
      "text/plain": [
       "class_1\n",
       "B    5\n",
       "C    3\n",
       "A    1\n",
       "D    1\n",
       "Name: count, dtype: int64"
      ]
     },
     "execution_count": 50,
     "metadata": {},
     "output_type": "execute_result"
    }
   ],
   "source": [
    "class_neighbors = pd.DataFrame(data = {\"class_1\" : [\"A\", \"B\", \"B\", \"B\", \"B\", \"B\", \"C\", \"C\", \"C\", \"D\"]})\n",
    "class_neighbors[\"class_1\"].value_counts()"
   ]
  },
  {
   "cell_type": "markdown",
   "id": "39f4fddf-cff7-4063-8174-3bee943db68e",
   "metadata": {},
   "source": [
    "# Fit kNN using scikit-learn\n",
    "\n",
    "## Splitting data into Training and Test Sets for Model Evaluation\n",
    "\n",
    "There are multiple ways of evaluation models, but the most common one is the train-test split. When usin a train-test split for model evaluation, you split the dataset into two parts:\n",
    "1. **Training data** is used to fit the model. For kNN, this means that the training data will be used as neighbors.\n",
    "2. **Test data** is used to evaluate the model. It means that you'll make predictions for the number of rings of each of the abalones in the test data and compare those results to the known true number of rings."
   ]
  },
  {
   "cell_type": "code",
   "execution_count": 52,
   "id": "ff37c59f-f795-4776-b390-2510f7ed7c47",
   "metadata": {},
   "outputs": [],
   "source": [
    "from sklearn.model_selection import train_test_split"
   ]
  },
  {
   "cell_type": "code",
   "execution_count": 53,
   "id": "8a189bb0-27a3-417a-8421-46326bb1a9f4",
   "metadata": {},
   "outputs": [],
   "source": [
    "X_train, X_test, y_train, y_test = train_test_split(X, y, test_size=0.2, random_state=12345)"
   ]
  },
  {
   "cell_type": "markdown",
   "id": "ae85b5cf-3929-4ed5-bdae-96e20b3bfac9",
   "metadata": {},
   "source": [
    "The `test_size` refers to the number of observations that you want to put in the training data and the test data. If you specify a `test_size` of `0.2`, your `test_size` will be 20 percent of the original data, therefore leaving the other 80 percent as the training data.\n",
    "\n",
    "The `random_state` is a parameter that allows you to obtain the same results every time the code is run. `train_test_split()` makes a random split in the data, which is problematic for reproducing the results. Therefore, it is common to use `random_state`. The choice of value in `random_state` is arbitrary."
   ]
  },
  {
   "cell_type": "markdown",
   "id": "b3694833-aa6f-4a3d-8df8-26ddfadab0c9",
   "metadata": {},
   "source": [
    "## Fitting a kNN Regression"
   ]
  },
  {
   "cell_type": "code",
   "execution_count": 54,
   "id": "aa293839-4b0c-4323-9973-fc82579e5216",
   "metadata": {},
   "outputs": [],
   "source": [
    "from sklearn.neighbors import KNeighborsRegressor"
   ]
  },
  {
   "cell_type": "code",
   "execution_count": 55,
   "id": "85b116b3-a954-4f91-997e-9b4a1a464772",
   "metadata": {},
   "outputs": [],
   "source": [
    "knn_model = KNeighborsRegressor(n_neighbors=3)"
   ]
  },
  {
   "cell_type": "code",
   "execution_count": 56,
   "id": "353328d0-5c39-4f66-9456-912014ae96bb",
   "metadata": {},
   "outputs": [
    {
     "data": {
      "text/html": [
       "<style>#sk-container-id-1 {color: black;}#sk-container-id-1 pre{padding: 0;}#sk-container-id-1 div.sk-toggleable {background-color: white;}#sk-container-id-1 label.sk-toggleable__label {cursor: pointer;display: block;width: 100%;margin-bottom: 0;padding: 0.3em;box-sizing: border-box;text-align: center;}#sk-container-id-1 label.sk-toggleable__label-arrow:before {content: \"▸\";float: left;margin-right: 0.25em;color: #696969;}#sk-container-id-1 label.sk-toggleable__label-arrow:hover:before {color: black;}#sk-container-id-1 div.sk-estimator:hover label.sk-toggleable__label-arrow:before {color: black;}#sk-container-id-1 div.sk-toggleable__content {max-height: 0;max-width: 0;overflow: hidden;text-align: left;background-color: #f0f8ff;}#sk-container-id-1 div.sk-toggleable__content pre {margin: 0.2em;color: black;border-radius: 0.25em;background-color: #f0f8ff;}#sk-container-id-1 input.sk-toggleable__control:checked~div.sk-toggleable__content {max-height: 200px;max-width: 100%;overflow: auto;}#sk-container-id-1 input.sk-toggleable__control:checked~label.sk-toggleable__label-arrow:before {content: \"▾\";}#sk-container-id-1 div.sk-estimator input.sk-toggleable__control:checked~label.sk-toggleable__label {background-color: #d4ebff;}#sk-container-id-1 div.sk-label input.sk-toggleable__control:checked~label.sk-toggleable__label {background-color: #d4ebff;}#sk-container-id-1 input.sk-hidden--visually {border: 0;clip: rect(1px 1px 1px 1px);clip: rect(1px, 1px, 1px, 1px);height: 1px;margin: -1px;overflow: hidden;padding: 0;position: absolute;width: 1px;}#sk-container-id-1 div.sk-estimator {font-family: monospace;background-color: #f0f8ff;border: 1px dotted black;border-radius: 0.25em;box-sizing: border-box;margin-bottom: 0.5em;}#sk-container-id-1 div.sk-estimator:hover {background-color: #d4ebff;}#sk-container-id-1 div.sk-parallel-item::after {content: \"\";width: 100%;border-bottom: 1px solid gray;flex-grow: 1;}#sk-container-id-1 div.sk-label:hover label.sk-toggleable__label {background-color: #d4ebff;}#sk-container-id-1 div.sk-serial::before {content: \"\";position: absolute;border-left: 1px solid gray;box-sizing: border-box;top: 0;bottom: 0;left: 50%;z-index: 0;}#sk-container-id-1 div.sk-serial {display: flex;flex-direction: column;align-items: center;background-color: white;padding-right: 0.2em;padding-left: 0.2em;position: relative;}#sk-container-id-1 div.sk-item {position: relative;z-index: 1;}#sk-container-id-1 div.sk-parallel {display: flex;align-items: stretch;justify-content: center;background-color: white;position: relative;}#sk-container-id-1 div.sk-item::before, #sk-container-id-1 div.sk-parallel-item::before {content: \"\";position: absolute;border-left: 1px solid gray;box-sizing: border-box;top: 0;bottom: 0;left: 50%;z-index: -1;}#sk-container-id-1 div.sk-parallel-item {display: flex;flex-direction: column;z-index: 1;position: relative;background-color: white;}#sk-container-id-1 div.sk-parallel-item:first-child::after {align-self: flex-end;width: 50%;}#sk-container-id-1 div.sk-parallel-item:last-child::after {align-self: flex-start;width: 50%;}#sk-container-id-1 div.sk-parallel-item:only-child::after {width: 0;}#sk-container-id-1 div.sk-dashed-wrapped {border: 1px dashed gray;margin: 0 0.4em 0.5em 0.4em;box-sizing: border-box;padding-bottom: 0.4em;background-color: white;}#sk-container-id-1 div.sk-label label {font-family: monospace;font-weight: bold;display: inline-block;line-height: 1.2em;}#sk-container-id-1 div.sk-label-container {text-align: center;}#sk-container-id-1 div.sk-container {/* jupyter's `normalize.less` sets `[hidden] { display: none; }` but bootstrap.min.css set `[hidden] { display: none !important; }` so we also need the `!important` here to be able to override the default hidden behavior on the sphinx rendered scikit-learn.org. See: https://github.com/scikit-learn/scikit-learn/issues/21755 */display: inline-block !important;position: relative;}#sk-container-id-1 div.sk-text-repr-fallback {display: none;}</style><div id=\"sk-container-id-1\" class=\"sk-top-container\"><div class=\"sk-text-repr-fallback\"><pre>KNeighborsRegressor(n_neighbors=3)</pre><b>In a Jupyter environment, please rerun this cell to show the HTML representation or trust the notebook. <br />On GitHub, the HTML representation is unable to render, please try loading this page with nbviewer.org.</b></div><div class=\"sk-container\" hidden><div class=\"sk-item\"><div class=\"sk-estimator sk-toggleable\"><input class=\"sk-toggleable__control sk-hidden--visually\" id=\"sk-estimator-id-1\" type=\"checkbox\" checked><label for=\"sk-estimator-id-1\" class=\"sk-toggleable__label sk-toggleable__label-arrow\">KNeighborsRegressor</label><div class=\"sk-toggleable__content\"><pre>KNeighborsRegressor(n_neighbors=3)</pre></div></div></div></div></div>"
      ],
      "text/plain": [
       "KNeighborsRegressor(n_neighbors=3)"
      ]
     },
     "execution_count": 56,
     "metadata": {},
     "output_type": "execute_result"
    }
   ],
   "source": [
    "knn_model.fit(X_train, y_train)"
   ]
  },
  {
   "cell_type": "markdown",
   "id": "120442f2-a33c-48b9-9d46-b94d9226e4bd",
   "metadata": {},
   "source": [
    "## Using scikit-learn to Inspect Model Fit\n",
    "\n",
    "There are many evaluation metrics avaiable for regression, but we'll use one of the most common ones, the **root-mean-square error (RMSE)**. The RMSE of a prediction is computed as follows:\n",
    "1. Compute the difference between each data point's actual value and predicted value.\n",
    "2. For each difference, take the square of this difference.\n",
    "3. Sum all of the squared differences.\n",
    "4. Take the square root of the summed value."
   ]
  },
  {
   "cell_type": "code",
   "execution_count": 57,
   "id": "1f3bf675-3792-4eb6-93ba-0c82bdd34089",
   "metadata": {},
   "outputs": [],
   "source": [
    "from sklearn.metrics import mean_squared_error\n",
    "from math import sqrt"
   ]
  },
  {
   "cell_type": "code",
   "execution_count": 58,
   "id": "799f17c8-1c73-488a-9108-3ec5a9fb2747",
   "metadata": {},
   "outputs": [],
   "source": [
    "train_preds = knn_model.predict(X_train)"
   ]
  },
  {
   "cell_type": "code",
   "execution_count": 59,
   "id": "c7a59d91-c7e2-4920-883e-04069d288b87",
   "metadata": {},
   "outputs": [
    {
     "data": {
      "text/plain": [
       "1.6538366794859511"
      ]
     },
     "execution_count": 59,
     "metadata": {},
     "output_type": "execute_result"
    }
   ],
   "source": [
    "mse = mean_squared_error(y_train, train_preds)\n",
    "rmse = sqrt(mse)\n",
    "rmse"
   ]
  },
  {
   "cell_type": "markdown",
   "id": "d8cca51f-f228-482b-815c-d4c5d6a4a894",
   "metadata": {},
   "source": [
    "In this code, we computed the RMSE using the `knn_model` that were fitted in the previous code block. We compute the RMSE on the training data for now. \n",
    "\n",
    "For a more realistic result, we evaluate the performances on data that aren’t included in the model. This is why the test set was kept separated. We evaluate the predictive performances on the test set with the same function as before:"
   ]
  },
  {
   "cell_type": "code",
   "execution_count": 60,
   "id": "e8108722-d9e0-4785-b42d-6dd655ddfe16",
   "metadata": {},
   "outputs": [
    {
     "data": {
      "text/plain": [
       "2.375417924000521"
      ]
     },
     "execution_count": 60,
     "metadata": {},
     "output_type": "execute_result"
    }
   ],
   "source": [
    "test_preds = knn_model.predict(X_test)\n",
    "mse = mean_squared_error(y_test, test_preds)\n",
    "rmse = sqrt(mse)\n",
    "rmse"
   ]
  },
  {
   "cell_type": "code",
   "execution_count": null,
   "id": "1b44dd2b-67d6-4958-950d-375ee104b39d",
   "metadata": {},
   "outputs": [],
   "source": []
  }
 ],
 "metadata": {
  "kernelspec": {
   "display_name": "Python 3 (ipykernel)",
   "language": "python",
   "name": "python3"
  },
  "language_info": {
   "codemirror_mode": {
    "name": "ipython",
    "version": 3
   },
   "file_extension": ".py",
   "mimetype": "text/x-python",
   "name": "python",
   "nbconvert_exporter": "python",
   "pygments_lexer": "ipython3",
   "version": "3.10.12"
  }
 },
 "nbformat": 4,
 "nbformat_minor": 5
}
