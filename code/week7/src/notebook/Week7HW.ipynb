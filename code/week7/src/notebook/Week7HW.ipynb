{
 "cells": [
  {
   "cell_type": "markdown",
   "id": "f60663a0-5251-4994-be97-cd45d5106080",
   "metadata": {},
   "source": [
    "# Week 7 Assignment\n",
    "> Benzon Carlitos Salazar\n",
    "\n",
    "The MNIST dataset is a dataset of 28 by 28 images of hand-written digits. Download it from http://yann.lecun.com/exdb/mnist/ (you only really need the training images and labels though). Since the dataset is quite large, restrict yourself to the first 1000 images, and their labels. You can read in the file `mnist_train.csv` which is the processed file having 1000 rows and 785 cols\n",
    "\n",
    "- Store the cols 2:785 of this matrix as digits and the first col as labels. Digits should be a 1000 by 784 matrix.\n",
    "- Write a function mykmeans to perform a k-means clustering of the 1000 images of digits. Use Euclidean distance as your distance measure between images (which can be viewed as vectors in a 784 dimensional space). Your function should take 3 arguments, the matrix\n",
    "digits, the number of clusters K and the number of initializations N. You code should consist of 3 nested loops. The outermost (from 1 to N) cycles over random cluster initializations (i.e. you will call k-means N times with different initializations). The second loop (this could be a for or while loop) is the actual k-means algorithm for that initialization, and cycles over the iterations of k-means. Inside this are the actualiterations of k-means. Each iteration can have 2 successive loops from 1 to K: the first assigns observations to each cluster and the second recalculates the means of each cluster. These should not require further loops. (You will probably encounter empty clusters. It is possible to deal with these in clever ways, but here it is sufficient to assign empty clusters a random mean (just like you\n",
    "initialized them)). Your function should return:\n",
    "  - the cluster parameters and cluster assignments for the best solution\n",
    "  - the objective/loss-function over k-means iterations for the best solution (this should be non-increasing)\n",
    "- Run your code on the 1000 digits for K= 5; 10; 20; 25. Plot K values on the x-axis. For each setting of K , plot the best solution of objective/loss function on y axis. Copy the output of your code and the plot from c) to a docx file and submit to Week7Assignment folder."
   ]
  },
  {
   "cell_type": "code",
   "execution_count": 4,
   "id": "a15a7b7b-f21c-48c4-b160-cc30bb29150e",
   "metadata": {},
   "outputs": [],
   "source": [
    "import numpy as np\n",
    "import pandas as pd\n",
    "import matplotlib.pyplot as plt"
   ]
  },
  {
   "cell_type": "code",
   "execution_count": 2,
   "id": "e4f7592b-fdb6-4809-8b70-74a300b14f9d",
   "metadata": {},
   "outputs": [],
   "source": [
    "mnist_train = pd.read_csv(\"../data/mnist_train.csv\", header=None)"
   ]
  },
  {
   "cell_type": "code",
   "execution_count": 3,
   "id": "88b8e4ef-9d51-43e3-a31e-8e0e887860b7",
   "metadata": {},
   "outputs": [],
   "source": [
    "# Extract digits and labels\n",
    "digits = mnist_train.iloc[:1000, 1:].values\n",
    "labels = mnist_train.iloc[:1000, 0].values"
   ]
  },
  {
   "cell_type": "code",
   "execution_count": 5,
   "id": "9cc1c586-e3c0-4ad8-93c2-5dd8b8f2fd93",
   "metadata": {},
   "outputs": [],
   "source": [
    "def mykmeans(digits, K, N):\n",
    "    best_loss = float('inf')\n",
    "    best_params = None\n",
    "    best_assignments = None\n",
    "\n",
    "    for _ in range(N):\n",
    "        # Randomly initialize cluster centroids\n",
    "        centroids = digits[np.random.choice(len(digits), K, replace=False)]\n",
    "        for _ in range(100):  # You can adjust the number of iterations\n",
    "            # Assign each digit to the nearest cluster\n",
    "            assignments = np.argmin(np.linalg.norm(digits[:, np.newaxis] - centroids, axis=2), axis=1)\n",
    "            # Calculate the new centroids\n",
    "            new_centroids = np.array([digits[assignments == k].mean(axis=0) for k in range(K)])\n",
    "            # Check if any clusters are empty, and assign them a random digit\n",
    "            empty_clusters = np.where(np.isnan(new_centroids).any(axis=1))[0]\n",
    "            new_centroids[empty_clusters] = digits[np.random.choice(len(digits), len(empty_clusters), replace=False)]\n",
    "\n",
    "            # Check convergence\n",
    "            if np.all(new_centroids == centroids):\n",
    "                break\n",
    "            centroids = new_centroids\n",
    "        \n",
    "        # Calculate loss for this initialization\n",
    "        loss = np.sum((digits - centroids[assignments])**2)\n",
    "\n",
    "        if loss < best_loss:\n",
    "            best_loss = loss\n",
    "            best_params = centroids\n",
    "            best_assignments = assignments\n",
    "\n",
    "    return best_params, best_assignments, best_loss"
   ]
  },
  {
   "cell_type": "code",
   "execution_count": 6,
   "id": "32e3d8f8-0237-4652-a81c-7e5c37557ca6",
   "metadata": {},
   "outputs": [],
   "source": [
    "# Define K values to test\n",
    "K_values = [5, 10, 15, 20, 25]"
   ]
  },
  {
   "cell_type": "code",
   "execution_count": 7,
   "id": "cc8ca226-6d50-4da2-baec-9ddd8fd98813",
   "metadata": {},
   "outputs": [],
   "source": [
    "# Initialize N (number of initializations)\n",
    "N = 10"
   ]
  },
  {
   "cell_type": "code",
   "execution_count": 8,
   "id": "e94989ec-0163-4194-8127-3db83d8827d8",
   "metadata": {},
   "outputs": [],
   "source": [
    "# Store the losses for plotting\n",
    "losses = []"
   ]
  },
  {
   "cell_type": "code",
   "execution_count": 9,
   "id": "672463d0-1e75-4528-822f-251d2f77ec40",
   "metadata": {},
   "outputs": [
    {
     "name": "stdout",
     "output_type": "stream",
     "text": [
      "For K=5, Loss=2731629436.5652957\n",
      "For K=10, Loss=2391340708.5610147\n",
      "For K=15, Loss=2178499854.895886\n",
      "For K=20, Loss=2074745848.6494002\n",
      "For K=25, Loss=1979507192.598604\n"
     ]
    }
   ],
   "source": [
    "for K in K_values:\n",
    "    cluster_params, cluster_assignments, loss = mykmeans(digits, K, N)\n",
    "    losses.append(loss)\n",
    "    print(f\"For K={K}, Loss={loss}\")"
   ]
  },
  {
   "cell_type": "code",
   "execution_count": null,
   "id": "d500ee03-bb2e-44c8-9335-c2b1e92eac14",
   "metadata": {},
   "outputs": [],
   "source": [
    "plt.plot(K_values, losses, marker='o')\n",
    "plt.xlabel('Number of Clusters (K)')\n",
    "plt.ylabel('Loss')\n",
    "for i, loss in enumerate(losses):\n",
    "    plt.text(K_values[i], loss, f'{loss:.2f}', ha='right', va='bottom')\n",
    "plt.title('K-means Clustering Loss')\n",
    "\n",
    "plt.savefig(\"../kmeans_clustering_mnist.png\")\n",
    "plt.show()"
   ]
  }
 ],
 "metadata": {
  "kernelspec": {
   "display_name": "Python 3 (ipykernel)",
   "language": "python",
   "name": "python3"
  },
  "language_info": {
   "codemirror_mode": {
    "name": "ipython",
    "version": 3
   },
   "file_extension": ".py",
   "mimetype": "text/x-python",
   "name": "python",
   "nbconvert_exporter": "python",
   "pygments_lexer": "ipython3",
   "version": "3.10.12"
  }
 },
 "nbformat": 4,
 "nbformat_minor": 5
}
