{
 "cells": [
  {
   "cell_type": "code",
   "execution_count": 64,
   "id": "a2e77d6c-854a-4ceb-8faf-e3693f8dac84",
   "metadata": {},
   "outputs": [],
   "source": [
    "import numpy as np\n",
    "from numpy.linalg import inv\n",
    "import matplotlib.pyplot as plt\n",
    "from sklearn.metrics.pairwise import euclidean_distances\n",
    "from scipy.optimize import linear_sum_assignment\n",
    "from sklearn.metrics import confusion_matrix"
   ]
  },
  {
   "cell_type": "code",
   "execution_count": 65,
   "id": "50b39013-5b23-4d83-aa4c-6a6a24e4af13",
   "metadata": {},
   "outputs": [],
   "source": [
    "def myKmeans(data, C, K, num_iters=10):\n",
    "    n, m = data.shape\n",
    "    for i in range(0, num_iters):\n",
    "        D = euclidean_distances(data, C)\n",
    "        Cls = np.argmin(D, axis = 1)\n",
    "        for k in range(0, K):\n",
    "            indClass = np.where(Cis == k)\n",
    "            # DataFromThisClass = np.array(data[indClass,:]) # use a.squeeze(0) if dimension is > 2d\n",
    "            DataFromThisClass = np.array(data[indClass,:]).squeeze(0)\n",
    "            C[k,:] = DataFromThisClass.mean(axis=0)\n",
    "        D = euclidean_distances(data, C)\n",
    "        Cls = np.argmin(D, axis=1)\n",
    "        Obj = np.min(D, axis=1).sum()\n",
    "    return Obj, Cls"
   ]
  },
  {
   "cell_type": "code",
   "execution_count": 66,
   "id": "bcaa8da2-fde5-4b8d-a89f-0e40b033f4ca",
   "metadata": {},
   "outputs": [],
   "source": [
    "def mainFunction(data, K, num_iter):\n",
    "    n, m = data.shape\n",
    "    O = np.zeros(num_iter)\n",
    "    C_all = np.zeros((num_iter, n))\n",
    "    for i in range(0, num_iter):\n",
    "        p = np.random.permutation(n) # random ordering of 0 to n-1\n",
    "        C = data[p[0:K],:] # picking up k random points from data as centers\n",
    "        Obj, cls = myKmeans(data, C, K)\n",
    "        O[i] = Obj\n",
    "        C_all[i,:] = cls.transpose()\n",
    "\n",
    "    indlowest = np.argmin(O)\n",
    "    finalClass = C_all[indlowest,:].transpose()\n",
    "    return K, finalClass"
   ]
  },
  {
   "cell_type": "code",
   "execution_count": 67,
   "id": "789f5fca-f55e-4e1e-ac75-ed23ca134182",
   "metadata": {},
   "outputs": [],
   "source": [
    "data = np.genfromtxt(\"../data/mnist_train.csv\", delimiter=\",\", dtype=float)"
   ]
  },
  {
   "cell_type": "code",
   "execution_count": 72,
   "id": "2de0d8d4-05df-4b5c-99f3-c2ae74e4293a",
   "metadata": {},
   "outputs": [],
   "source": [
    "LabelTrain = data[:,0]\n",
    "n, m = data.shape\n",
    "data = data[:, 1:n]\n",
    "# num_iter = 10 # number of timnes to randomly initialize centers\n",
    "K = 10 # Number of classes\n",
    "N = n\n",
    "Cls = mainFunction(data, K, N)"
   ]
  },
  {
   "cell_type": "code",
   "execution_count": 69,
   "id": "2746d7be-90b4-4e47-9933-80b1e3408152",
   "metadata": {},
   "outputs": [
    {
     "ename": "TypeError",
     "evalue": "tuple indices must be integers or slices, not tuple",
     "output_type": "error",
     "traceback": [
      "\u001b[0;31m---------------------------------------------------------------------------\u001b[0m",
      "\u001b[0;31mTypeError\u001b[0m                                 Traceback (most recent call last)",
      "Cell \u001b[0;32mIn[69], line 4\u001b[0m\n\u001b[1;32m      2\u001b[0m \u001b[38;5;28;01mfor\u001b[39;00m k \u001b[38;5;129;01min\u001b[39;00m \u001b[38;5;28mrange\u001b[39m(\u001b[38;5;241m0\u001b[39m, K):\n\u001b[1;32m      3\u001b[0m     indclass \u001b[38;5;241m=\u001b[39m np\u001b[38;5;241m.\u001b[39mwhere(LabelTrain \u001b[38;5;241m==\u001b[39m k)\n\u001b[0;32m----> 4\u001b[0m     p, bins \u001b[38;5;241m=\u001b[39m np\u001b[38;5;241m.\u001b[39mhistogram(\u001b[43mCls\u001b[49m\u001b[43m[\u001b[49m\u001b[43mindclass\u001b[49m\u001b[43m]\u001b[49m, bins \u001b[38;5;241m=\u001b[39m [\u001b[38;5;241m0\u001b[39m,\u001b[38;5;241m1\u001b[39m,\u001b[38;5;241m2\u001b[39m,\u001b[38;5;241m3\u001b[39m,\u001b[38;5;241m4\u001b[39m,\u001b[38;5;241m5\u001b[39m,\u001b[38;5;241m6\u001b[39m,\u001b[38;5;241m7\u001b[39m,\u001b[38;5;241m8\u001b[39m,\u001b[38;5;241m9\u001b[39m,\u001b[38;5;241m10\u001b[39m])\n\u001b[1;32m      5\u001b[0m     \u001b[38;5;66;03m# p += np.histogram(data, bins = [0,1,2,3,4,5,6,7,8,9,10])[0]\u001b[39;00m\n\u001b[1;32m      6\u001b[0m     \u001b[38;5;66;03m# confMat[k,:] = p.astype('uint8')\u001b[39;00m\n",
      "\u001b[0;31mTypeError\u001b[0m: tuple indices must be integers or slices, not tuple"
     ]
    }
   ],
   "source": [
    "confMat = np.zeros((K, K))\n",
    "for k in range(0, K):\n",
    "    indclass = np.where(LabelTrain == k)\n",
    "    p, bins = np.histogram(Cls[indclass], bins = [0,1,2,3,4,5,6,7,8,9,10])\n",
    "    # p += np.histogram(data, bins = [0,1,2,3,4,5,6,7,8,9,10])[0]\n",
    "    # confMat[k,:] = p.astype('uint8')"
   ]
  },
  {
   "cell_type": "code",
   "execution_count": 39,
   "id": "55b04f6d-1e82-430c-914b-0fa03b7663c1",
   "metadata": {},
   "outputs": [
    {
     "name": "stdout",
     "output_type": "stream",
     "text": [
      "[[101. 117. 153. 123.  53. 105.  66. 120.  80.  82.]\n",
      " [  0.   0.   0.   0.   0.   0.   0.   0.   0.   0.]\n",
      " [  0.   0.   0.   0.   0.   0.   0.   0.   0.   0.]\n",
      " [  0.   0.   0.   0.   0.   0.   0.   0.   0.   0.]\n",
      " [  0.   0.   0.   0.   0.   0.   0.   0.   0.   0.]\n",
      " [  0.   0.   0.   0.   0.   0.   0.   0.   0.   0.]\n",
      " [  0.   0.   0.   0.   0.   0.   0.   0.   0.   0.]\n",
      " [  0.   0.   0.   0.   0.   0.   0.   0.   0.   0.]\n",
      " [  0.   0.   0.   0.   0.   0.   0.   0.   0.   0.]\n",
      " [  0.   0.   0.   0.   0.   0.   0.   0.   0.   0.]]\n"
     ]
    }
   ],
   "source": [
    "print(confMat)"
   ]
  },
  {
   "cell_type": "code",
   "execution_count": 40,
   "id": "e5f80d60-b7a8-4e0c-b238-3d35a3835805",
   "metadata": {},
   "outputs": [
    {
     "name": "stdout",
     "output_type": "stream",
     "text": [
      "[0 1 2 3 4 5 6 7 8 9] [2 0 1 3 4 5 6 7 8 9]\n"
     ]
    }
   ],
   "source": [
    "confMat = -confMat\n",
    "row_ind, col_ind = linear_sum_assignment(confMat)\n",
    "print(row_ind, col_ind)"
   ]
  },
  {
   "cell_type": "code",
   "execution_count": 47,
   "id": "51d448a7-9893-4a2b-9c45-c497f6bced12",
   "metadata": {},
   "outputs": [
    {
     "name": "stdout",
     "output_type": "stream",
     "text": [
      "Total percentage of misclassified point: -0.847\n"
     ]
    }
   ],
   "source": [
    "misclass = -1*(confMat.sum() - confMat[row_ind, col_ind].sum())\n",
    "err = misclass / N\n",
    "print(f\"Total percentage of misclassified point: {err}\")"
   ]
  }
 ],
 "metadata": {
  "kernelspec": {
   "display_name": "Python 3 (ipykernel)",
   "language": "python",
   "name": "python3"
  },
  "language_info": {
   "codemirror_mode": {
    "name": "ipython",
    "version": 3
   },
   "file_extension": ".py",
   "mimetype": "text/x-python",
   "name": "python",
   "nbconvert_exporter": "python",
   "pygments_lexer": "ipython3",
   "version": "3.10.12"
  }
 },
 "nbformat": 4,
 "nbformat_minor": 5
}
